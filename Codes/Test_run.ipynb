{
 "cells": [
  {
   "cell_type": "code",
   "execution_count": null,
   "id": "4d38c91a-cee4-4a98-8f6e-fda2cd61e9ed",
   "metadata": {},
   "outputs": [],
   "source": [
    "    import os\n",
    "    import sys\n",
    "    import time\n",
    "    import torch\n",
    "    import numpy as np\n",
    "    import matplotlib.pyplot as plt"
   ]
  },
  {
   "cell_type": "code",
   "execution_count": null,
   "id": "d1c7d00d-773e-4e55-ac55-76339b93fac6",
   "metadata": {},
   "outputs": [],
   "source": [
    "    #sys.path.insert(1, os.path.join(\"C:\\\\\", \"Users\", \"Soham\", \"Git\", \"spectral-NN\", \"source_codes\"))\n",
    "    sys.path.insert(1, os.path.join(\"/home\", \"soham\", \"Git\", \"spectral-NN\", \"source_codes\"))\n",
    "    \n",
    "    import SpectralNetworks as spectNN\n",
    "    import Important_functions as Ifn\n",
    "    import spectral_NN_setup as setup"
   ]
  },
  {
   "cell_type": "code",
   "execution_count": null,
   "id": "84ba74e0-f2e1-4565-9659-f4268546824f",
   "metadata": {},
   "outputs": [],
   "source": [
    "    dirc = setup.directory\n",
    "#    replicates = setup.replicates\n",
    "    repl = 1"
   ]
  },
  {
   "cell_type": "code",
   "execution_count": null,
   "id": "078a5363-4c8b-41c0-8e23-7778c03dd0d1",
   "metadata": {},
   "outputs": [],
   "source": [
    "        print('Example'+str(repl+1)+':')\n",
    "        u = np.loadtxt(dirc+\"locations.dat\",dtype=\"float32\")\n",
    "        if len(u.shape)==1:\n",
    "            D, d = len(u), 1\n",
    "            u = u.reshape(D,1)\n",
    "        else:\n",
    "            D, d = u.shape\n",
    "        u = torch.from_numpy(u)\n",
    "        x = np.loadtxt(dirc+'Example'+str(repl+1)+'.dat',dtype='float32')\n",
    "        N = x.shape[0]\n",
    "        if x.shape[1] != D:\n",
    "            exit('Data shape mismatch!! Aborting..')\n",
    "        print('N='+str(N)+', D='+str(D)+', d='+str(d))\n",
    "\n",
    "        x = torch.from_numpy(x)\n",
    "        x = x - torch.mean(x,dim=0,keepdim=True)"
   ]
  },
  {
   "cell_type": "code",
   "execution_count": null,
   "id": "e35a5ee5-174d-4449-af72-89b379b88ac3",
   "metadata": {},
   "outputs": [],
   "source": [
    "        method = \"deep\"\n",
    "        M, L = 15, 15\n",
    "        depth, width = 3, 20\n",
    "        q = 40\n",
    "        \n",
    "        if method.lower()==\"shallow\":\n",
    "            model = spectNN.spectralNNShallow(N,d,M,L,setup.act_fn,setup.init)\n",
    "            check_file = \"Shallow_\"+str(M)+\"_\"+str(L)+\".pt\"\n",
    "        elif method.lower()==\"deep\":\n",
    "            model = spectNN.spectralNNDeep(N,d,M,L,depth,width,setup.act_fn,setup.init)\n",
    "            check_file = \"Deep_\"+str(M)+\"_\"+str(L)+\"_\"+str(depth)+\"_\"+str(width)+\".pt\"\n",
    "        elif method.lower()==\"deepshared1\":\n",
    "            model = spectNN.spectralNNDeepshared1(N,d,M,L,depth,width,setup.act_fn,setup.init)\n",
    "            check_file = \"Deepshared1_\"+str(M)+\"_\"+str(L)+\"_\"+str(depth)+\"_\"+str(width)+\".pt\"\n",
    "        elif method.lower()==\"deepshared2\":\n",
    "            model = spectNN.spectralNNDeepshared2(N,d,M,L,depth,width,setup.act_fn,setup.init)\n",
    "            check_file = \"Deepshared2_\"+str(M)+\"_\"+str(L)+\"_\"+str(depth)+\"_\"+str(width)+\".pt\"\n",
    "        elif method.lower()==\"deepshared3\":\n",
    "            model = spectNN.spectralNNDeepshared3(N,d,M,L,depth,width,setup.act_fn,setup.init)\n",
    "            check_file = \"Deepshared3_\"+str(M)+\"_\"+str(L)+\"_\"+str(depth)+\"_\"+str(width)+\".pt\"\n",
    "        else:\n",
    "            exit(\"Undefined model specified! Aborting...\")"
   ]
  },
  {
   "cell_type": "code",
   "execution_count": null,
   "id": "67542dc1-973f-426a-8da3-52ed23e85f6d",
   "metadata": {},
   "outputs": [],
   "source": [
    "        optimizer = setup.optimizer(model.params,lr=setup.lr)\n",
    "        loss = Ifn.loss_spectralNN(N, setup.wt_fn, grid_size=setup.loss_grid, q=q)\n",
    "        print(\"Fitting the model ...\")\n",
    "        start_time = time.time()\n",
    "        l_tr = Ifn.spectral_NN_optim(x,u,model,loss,optimizer,epochs=setup.epochs,checkpoint_file=check_file)\n",
    "        time_ellapsed = time.time() - start_time\n",
    "        print(\"Model fitted. Time taken: {} seconds\" .format(time_ellapsed))"
   ]
  },
  {
   "cell_type": "raw",
   "id": "c3c40158-50e6-4d25-a7a3-a3b902cddaae",
   "metadata": {},
   "source": [
    "        fig, ax = plt.subplots(figsize=(5,5),ncols=1)\n",
    "        ax.plot(l_tr)\n",
    "        ax.set_xlabel(\"Epochs\")\n",
    "        ax.set_ylabel(\"Loss\")\n",
    "        plt.show()"
   ]
  },
  {
   "cell_type": "code",
   "execution_count": null,
   "id": "39253cef-a77b-4b4c-b8bc-5fbbe7e65429",
   "metadata": {},
   "outputs": [],
   "source": [
    "        with torch.no_grad():\n",
    "            num = loss.loss_fn(x,model(u)).item()\n",
    "            den = loss.loss_fn(x,0*x).item()\n",
    "            train_err = num/den\n",
    "        print(\"Relative training error: {:.2f}%\" .format(train_err*100))\n",
    "        print(\"Numerator: {:.4f}, Denominator: {:.4f}\" .format(num,den))"
   ]
  },
  {
   "cell_type": "code",
   "execution_count": null,
   "id": "3a68c116-d8ea-485d-8b0f-2ce23b67a4b2",
   "metadata": {},
   "outputs": [],
   "source": [
    "        theta_file = dirc+\"True_thetas\"+str(repl+1)+\".dat\"\n",
    "        loc_file = dirc+\"True_locations\"+str(repl+1)+\".dat\"\n",
    "        spect_file = dirc+\"True_spectrum\"+str(repl+1)+\".dat\"\n",
    "\n",
    "        spect_dens_est = Ifn.spectral_density_evaluation(model, q=q, wt_fn=setup.wt_fn)\n",
    "        test_err,num,den,tr_cospect,tr_quadspect,err_cospect,err_quadspect = Ifn.spectral_error_computation(spect_dens_est,theta_file,loc_file,spect_file)\n",
    "\n",
    "        print(\"Relative test error: {:.2f}%\" .format(test_err*100))\n",
    "        print(\"Numerator: {:.4f}, Denominator: {:.4f}\" .format(num,den))\n",
    "        print(\"Cospectra: Error - {:.4f}, Actual - {:.4f}\" .format(err_cospect,tr_cospect))\n",
    "        print(\"Quadspectra: Error - {:.4f}, Actual - {:.4f}\" .format(err_quadspect,tr_quadspect))"
   ]
  },
  {
   "cell_type": "code",
   "execution_count": null,
   "id": "29ae4d6d-19ea-419c-a077-4fbf9485ce8e",
   "metadata": {},
   "outputs": [],
   "source": [
    "        emp_spect_dens = Ifn.empirical_spectral_density(x, u, q=q, wt_fn=setup.wt_fn)\n",
    "        test_err,num,den,tr_cospect,tr_quadspect,err_cospect,err_quadspect = Ifn.emp_spectral_error_computation(emp_spect_dens,theta_file,loc_file,spect_file)\n",
    "\n",
    "        print(\"Relative test error: {:.2f}%\" .format(test_err*100))\n",
    "        print(\"Numerator: {:.4f}, Denominator: {:.4f}\" .format(num,den))\n",
    "        print(\"Cospectra: Error - {:.4f}, Actual - {:.4f}\" .format(err_cospect,tr_cospect))\n",
    "        print(\"Quadspectra: Error - {:.4f}, Actual - {:.4f}\" .format(err_quadspect,tr_quadspect))"
   ]
  },
  {
   "cell_type": "raw",
   "id": "68a7de18-cc53-4564-ac1a-03e8a1d7a721",
   "metadata": {},
   "source": [
    "        true_loc = np.loadtxt(dirc+\"True_locations_grid.dat\",dtype=\"float32\")\n",
    "        if d == 1:\n",
    "            true_loc = true_loc.reshape(-1,1)\n",
    "        D_tr = true_loc.shape[0]\n",
    "        true_loc = torch.from_numpy(true_loc)\n",
    "        true_thetas = np.loadtxt(dirc+\"True_thetas_grid.dat\",dtype=\"float32\")\n",
    "        K_theta = len(true_thetas)\n",
    "        spect_tr = np.loadtxt(dirc+\"True_spectrum_grid.dat\",dtype=\"float32\")\n",
    "        \n",
    "        def mat_scale(mat):\n",
    "            m = np.max(np.abs(mat))\n",
    "            if m == 0.:\n",
    "                return 0.000000001\n",
    "            return m"
   ]
  },
  {
   "cell_type": "raw",
   "id": "c07b2314-2668-49ce-9d27-e93c29f60f70",
   "metadata": {},
   "source": [
    "for t, theta in enumerate(true_thetas):\n",
    "    theta = true_thetas[t]\n",
    "    cospect_fit, quadspect_fit = spect_dens_est.evaluate_grid(theta,true_loc)\n",
    "    cospect_emp, quadspect_emp = emp_spect_dens.evaluate_grid(theta,true_loc)\n",
    "    \n",
    "    fig, ax = plt.subplots(figsize=(2.5,2.5),ncols=1)\n",
    "    m_ = mat_scale(cospect_emp.numpy())\n",
    "    ax.imshow(cospect_emp/m_, origin='lower', cmap='seismic',vmin=-1,vmax=1)\n",
    "    ax.set_xticks(np.linspace(0,D_tr-1,5))\n",
    "    ax.set_xticklabels([])\n",
    "    ax.set_yticks(np.linspace(0,D_tr-1,5))\n",
    "    ax.set_yticklabels([0,0.25,0.5,0.75,1])\n",
    "    ax.set_title(\"{:.3f}\" .format(m_))\n",
    "    ax.set_xticklabels([0,0.25,0.5,0.75,1])\n",
    "    fig.savefig(os.path.join(\"Plots\",\"Empirical_cospect_\"+str(t+1)+\".pdf\"),\n",
    "                bbox_inches=\"tight\",dpi=300)\n",
    "    plt.close(\"all\")\n",
    "\n",
    "    fig, ax = plt.subplots(figsize=(2.5,2.5),ncols=1)\n",
    "    m_ = mat_scale(cospect_fit.numpy())\n",
    "    ax.imshow(cospect_fit/m_, origin='lower', cmap='seismic',vmin=-1,vmax=1)\n",
    "    ax.set_xticks(np.linspace(0,D_tr-1,5))\n",
    "    ax.set_xticklabels([])\n",
    "    ax.set_yticks(np.linspace(0,D_tr-1,5))\n",
    "    ax.set_yticklabels([0,0.25,0.5,0.75,1])\n",
    "    ax.set_title(\"{:.3f}\" .format(m_))\n",
    "    ax.set_xticklabels([0,0.25,0.5,0.75,1])\n",
    "    #fig.savefig(os.path.join(\"Plots\",method+\"_\"+str(M)+\"_\"+str(L)+\"_\"+str(depth)+\"_\"+str(width)+\"_cospect_\"+str(t+1)+\".pdf\"),\n",
    "    fig.savefig(os.path.join(\"Plots\",\"Fitted_cospect_\"+str(t+1)+\".pdf\"),\n",
    "                bbox_inches=\"tight\",dpi=300)\n",
    "    plt.close(\"all\")\n",
    "\n",
    "    fig, ax = plt.subplots(figsize=(2.5,2.5),ncols=1)\n",
    "    m_ = mat_scale(quadspect_emp.numpy())\n",
    "    ax.imshow(quadspect_emp/m_, origin='lower', cmap='seismic',vmin=-1,vmax=1)\n",
    "    ax.set_xticks(np.linspace(0,D_tr-1,5))\n",
    "    ax.set_xticklabels([])\n",
    "    ax.set_yticks(np.linspace(0,D_tr-1,5))\n",
    "    ax.set_yticklabels([0,0.25,0.5,0.75,1])\n",
    "    ax.set_title(\"{:.3f}\" .format(m_))\n",
    "    ax.set_xticklabels([0,0.25,0.5,0.75,1])\n",
    "    fig.savefig(os.path.join(\"Plots\",\"Empirical_quadspect_\"+str(t+1)+\".pdf\"),\n",
    "                bbox_inches=\"tight\",dpi=300)\n",
    "    plt.close(\"all\")\n",
    "\n",
    "    fig, ax = plt.subplots(figsize=(2.5,2.5),ncols=1)\n",
    "    m_ = mat_scale(quadspect_fit.numpy())\n",
    "    ax.imshow(quadspect_fit/m_, origin='lower', cmap='seismic',vmin=-1,vmax=1)\n",
    "    ax.set_xticks(np.linspace(0,D_tr-1,5))\n",
    "    ax.set_xticklabels([])\n",
    "    ax.set_yticks(np.linspace(0,D_tr-1,5))\n",
    "    ax.set_yticklabels([0,0.25,0.5,0.75,1])\n",
    "    ax.set_title(\"{:.3f}\" .format(m_))\n",
    "    ax.set_xticklabels([0,0.25,0.5,0.75,1])\n",
    "    #fig.savefig(os.path.join(\"Plots\",method+\"_\"+str(M)+\"_\"+str(L)+\"_\"+str(depth)+\"_\"+str(width)+\"_quadspect_\"+str(t+1)+\".pdf\"),\n",
    "    fig.savefig(os.path.join(\"Plots\",\"Fitted_quadspect_\"+str(t+1)+\".pdf\"),\n",
    "                bbox_inches=\"tight\",dpi=300)\n",
    "    plt.close(\"all\")\n",
    "plt.close(\"all\")"
   ]
  },
  {
   "cell_type": "raw",
   "id": "08b24dea-896e-4a14-9132-8ae80641b3e4",
   "metadata": {},
   "source": [
    "for t, theta in enumerate(true_thetas):\n",
    "    theta = true_thetas[t]\n",
    "    cospect_fit, quadspect_fit = spect_dens_est.evaluate_grid(theta,true_loc)\n",
    "    cospect_emp, quadspect_emp = emp_spect_dens.evaluate_complete(theta)\n",
    "\n",
    "    print(\"Empirical: {}, Fitted: {}\" .format(mat_scale(quadspect_emp.numpy()),mat_scale(quadspect_fit.numpy())))"
   ]
  },
  {
   "cell_type": "code",
   "execution_count": null,
   "id": "2f0e9583-adab-4250-ae01-dcae6698944f",
   "metadata": {},
   "outputs": [],
   "source": []
  }
 ],
 "metadata": {
  "kernelspec": {
   "display_name": "Python 3 (ipykernel)",
   "language": "python",
   "name": "python3"
  },
  "language_info": {
   "codemirror_mode": {
    "name": "ipython",
    "version": 3
   },
   "file_extension": ".py",
   "mimetype": "text/x-python",
   "name": "python",
   "nbconvert_exporter": "python",
   "pygments_lexer": "ipython3",
   "version": "3.13.1"
  }
 },
 "nbformat": 4,
 "nbformat_minor": 5
}
