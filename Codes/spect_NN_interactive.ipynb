{
 "cells": [
  {
   "cell_type": "code",
   "execution_count": null,
   "id": "f69b3a76-d71e-420b-8751-43928e604fac",
   "metadata": {},
   "outputs": [],
   "source": [
    "import os, sys, time\n",
    "import torch\n",
    "import numpy as np\n",
    "import matplotlib.pyplot as plt"
   ]
  },
  {
   "cell_type": "code",
   "execution_count": null,
   "id": "90f111c4-fde4-49ec-b3cf-5e27d991354f",
   "metadata": {},
   "outputs": [],
   "source": [
    "#sys.path.insert(1, os.path.join(\"C:\\\\\", \"Users\", \"Soham\", \"Git\", \"spectral-NN\", \"source_codes\"))\n",
    "sys.path.insert(1, os.path.join(\"/home\", \"soham\", \"Git\", \"spectral-NN\", \"source_codes\"))\n",
    "\n",
    "import SpectralNetworks as spectNN\n",
    "import Important_functions as Ifn\n",
    "import spectral_NN_setup as setup"
   ]
  },
  {
   "cell_type": "code",
   "execution_count": null,
   "id": "fb75167a-0547-464c-9c24-b1ef485e6384",
   "metadata": {},
   "outputs": [],
   "source": [
    "err_file = os.path.join(\"/home\", \"soham\", \"Git\", \"spectral-NN\", \"Results\",\"spectral_NN.txt\")\n",
    "dirc = os.path.join(\"/home\", \"soham\", \"Git\", \"spectral-NN\", \"Data/\")\n",
    "repl = input(\"Replicate number (integer):\")\n",
    "repl = int(repl)-1"
   ]
  },
  {
   "cell_type": "code",
   "execution_count": null,
   "id": "09d2b1c1-0784-4189-9b3e-eaeac1e62eab",
   "metadata": {},
   "outputs": [],
   "source": [
    "method = \"Deep\"\n",
    "M, L = 10, 10\n",
    "depth, width = 4, 20\n",
    "q = 20"
   ]
  },
  {
   "cell_type": "code",
   "execution_count": null,
   "id": "609e3a6e-5a04-4f73-9b42-1a062e2770bb",
   "metadata": {},
   "outputs": [],
   "source": [
    "print('Example'+str(repl+1)+':')\n",
    "u = np.loadtxt(dirc+\"locations.dat\",dtype=\"float32\")\n",
    "if len(u.shape)==1:\n",
    "    D, d = len(u), 1\n",
    "    u = u.reshape(D,1)\n",
    "else:\n",
    "    D, d = u.shape\n",
    "u = torch.from_numpy(u)\n",
    "x = np.loadtxt(dirc+'Example'+str(repl+1)+'.dat',dtype='float32')\n",
    "N = x.shape[0]\n",
    "if x.shape[1] != D:\n",
    "    exit('Data shape mismatch!! Aborting..')\n",
    "print('N='+str(N)+', D='+str(D)+', d='+str(d))\n",
    "\n",
    "x = torch.from_numpy(x)\n",
    "x -= torch.mean(x,dim=0,keepdim=True)"
   ]
  },
  {
   "cell_type": "code",
   "execution_count": null,
   "id": "4c5b1aee-4e6b-4ac8-8ac1-b496205c9b5e",
   "metadata": {},
   "outputs": [],
   "source": [
    "model = spectNN.spectralNNDeep(N,d,M,L,depth,width,setup.act_fn,setup.init)\n",
    "check_file = \"Deep_\"+str(q)+\"_\"+str(M)+\"_\"+str(L)+\"_\"+str(depth)+\"_\"+str(width)+\".pt\"\n",
    "optimizer = setup.optimizer(model.params,lr=setup.lr)\n",
    "loss = Ifn.loss_spectralNN(N, setup.wt_fn, grid_size=setup.loss_grid, q=q)"
   ]
  },
  {
   "cell_type": "code",
   "execution_count": null,
   "id": "e907ba07-ef40-4dab-b3f7-42b1dbf20b2b",
   "metadata": {},
   "outputs": [],
   "source": [
    "l_tr = []\n",
    "cont = \"yes\"\n",
    "epoch = 0\n",
    "min_l = np.inf\n",
    "rep = 0\n",
    "while cont.lower() == \"yes\":\n",
    "    start_time = time.time()\n",
    "    l_tr_, epoch_ = Ifn.spectral_NN_optim_best(x,u,model,loss,optimizer,\n",
    "                                  epochs=100,burn_in=0,interval=setup.interval,\n",
    "                                  checkpoint_file=check_file)\n",
    "    fit_time += time.time() - start_time\n",
    "    l_tr += l_tr_\n",
    "    if l_tr_[epoch_-1] < min_l:\n",
    "        min_l = l_tr_[epoch_-1]\n",
    "        epoch = rep*100 + epoch\n",
    "    plt.plot(l_tr_)\n",
    "    plt.show()\n",
    "    print(\"Minimum training error: {:.4f} obtained at epoch {}\" .format(l_tr_[epoch_-1],rep*100+epoch_))\n",
    "    rep += 1\n",
    "    cont = input(\"Continue? [Yes/No]\")"
   ]
  },
  {
   "cell_type": "code",
   "execution_count": null,
   "id": "0f94fb1c-b092-4516-b5e1-4cc5c52487d9",
   "metadata": {},
   "outputs": [],
   "source": [
    "spect_dens_est = Ifn.spectral_density_evaluation(model, q=q, wt_fn=setup.wt_fn)\n",
    "theta_file = dirc+\"True_thetas\"+str(repl+1)+\".dat\"\n",
    "loc_file = dirc+\"True_locations\"+str(repl+1)+\".dat\"\n",
    "spect_file = dirc+\"True_spectrum\"+str(repl+1)+\".dat\"\n",
    "\n",
    "start_time = time.time()\n",
    "test_err,num,den,tr_cospect,tr_quadspect,err_cospect,err_quadspect = Ifn.spectral_error_computation(spect_dens_est,theta_file,loc_file,spect_file)\n",
    "eval_time = time.time() - start_time\n",
    "\n",
    "print(\"Relative test error: {:.2f}%\" .format(test_err*100))\n",
    "\n",
    "f_err = open(err_file,\"a\")\n",
    "f_err.write(\"Example{}:\\n\" .format(repl+1))\n",
    "f_err.write(\"Fitting time - {:.10f} seconds. Evaluation time - {:.10f} seconds.\\n\" .format(fit_time,eval_time))\n",
    "f_err.write(\"Relative test errors - {:.10f}\\n\" .format(test_err))\n",
    "f_err.write(\"Cospectra: Error - {:.10f}, Actual - {:.10f}\\n\" .format(err_cospect,tr_cospect))\n",
    "f_err.write(\"Quadspectra: Error - {:.10f}, Actual - {:.10f}\\n\\n\" .format(err_quadspect,tr_quadspect))\n",
    "f_err.close()"
   ]
  },
  {
   "cell_type": "code",
   "execution_count": null,
   "id": "3dbd9bfb-34b4-48a0-b88c-31fa8e655d28",
   "metadata": {
    "jp-MarkdownHeadingCollapsed": true
   },
   "outputs": [],
   "source": []
  },
  {
   "cell_type": "code",
   "execution_count": null,
   "id": "5ad21774-a965-4be2-a2bb-1a91550d2cac",
   "metadata": {},
   "outputs": [],
   "source": []
  }
 ],
 "metadata": {
  "kernelspec": {
   "display_name": "Python 3 (ipykernel)",
   "language": "python",
   "name": "python3"
  },
  "language_info": {
   "codemirror_mode": {
    "name": "ipython",
    "version": 3
   },
   "file_extension": ".py",
   "mimetype": "text/x-python",
   "name": "python",
   "nbconvert_exporter": "python",
   "pygments_lexer": "ipython3",
   "version": "3.13.1"
  }
 },
 "nbformat": 4,
 "nbformat_minor": 5
}
