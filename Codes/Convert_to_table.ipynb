{
 "cells": [
  {
   "cell_type": "code",
   "execution_count": null,
   "id": "c8ddc6fc-880e-433f-9411-e8d32b88dcea",
   "metadata": {},
   "outputs": [],
   "source": [
    "import numpy as np"
   ]
  },
  {
   "cell_type": "code",
   "execution_count": null,
   "id": "8fccc8a9-8ce2-4403-bbc8-7b7c21c5045b",
   "metadata": {},
   "outputs": [],
   "source": [
    "par = \"Gr_size\"\n",
    "dim = 1"
   ]
  },
  {
   "cell_type": "code",
   "execution_count": null,
   "id": "cca18ecc-464b-48aa-87ee-9af939d01f47",
   "metadata": {},
   "outputs": [],
   "source": [
    "if par==\"N\":\n",
    "    idx = [100,200,400,800,1600]\n",
    "elif par==\"AR_coef\":\n",
    "    idx = [0.1,0.25,0.5,0.75,0.9]\n",
    "elif par==\"Gr_size\":\n",
    "    if dim==1:\n",
    "        idx = [20,40,80,160,320,640,1280,2560]\n",
    "    elif dim==2:\n",
    "        idx = [10,20,40,80,160,320]\n",
    "    elif dim==3:\n",
    "        idx = [5,10,20,40,80,160]"
   ]
  },
  {
   "cell_type": "code",
   "execution_count": null,
   "id": "c1873f7e-628b-4e73-a006-9fc8f8d8f2fe",
   "metadata": {},
   "outputs": [],
   "source": [
    "data = np.loadtxt(\"Errors\"+par+\".txt\",dtype=\"float\")"
   ]
  },
  {
   "cell_type": "code",
   "execution_count": null,
   "id": "59132419-a2f6-4e6b-b1f1-459428024a8d",
   "metadata": {},
   "outputs": [],
   "source": [
    "if data.shape[1]!=4 or data.shape[0]/6!=len(idx):\n",
    "    exit(\"Something wrong with the error file! Aborting.\")"
   ]
  },
  {
   "cell_type": "code",
   "execution_count": null,
   "id": "b3304ab3-01f5-45c1-a2e0-d450c601abad",
   "metadata": {},
   "outputs": [],
   "source": [
    "emp_err = data[:,0]\n",
    "emp_sd = data[:,1]\n",
    "spectNN_err = data[:,2]\n",
    "spectNN_sd = data[:,3]"
   ]
  },
  {
   "cell_type": "code",
   "execution_count": null,
   "id": "9d6df40d-f7eb-4517-b668-eb85af83d12d",
   "metadata": {},
   "outputs": [],
   "source": [
    "f = open(\"Err_table.txt\",\"w\")\n",
    "for i,j in enumerate(idx):\n",
    "    f.write(\"{}\" .format(j))\n",
    "    for k in range(6):\n",
    "        f.write(\"\\t&& {:.2f}\\t& {:.2f}\" .format(emp_err[k*len(idx)+i],spectNN_err[k*len(idx)+i]))\n",
    "    f.write(\"\\\\\\\\\\n\")\n",
    "    f.write(\"\")\n",
    "    for k in range(6):\n",
    "        f.write(\"\\t&& \\\\se{{{:.2f}}}\\t& \\\\se{{{:.2f}}}\" .format(emp_sd[k*len(idx)+i],spectNN_sd[k*len(idx)+i]))\n",
    "    f.write(\"\\\\\\\\ [2pt] \\n\")"
   ]
  },
  {
   "cell_type": "code",
   "execution_count": null,
   "id": "e9856121-7e48-4414-a9b7-d9203d75e80d",
   "metadata": {},
   "outputs": [],
   "source": [
    "f.close()"
   ]
  },
  {
   "cell_type": "code",
   "execution_count": null,
   "id": "ce1314a1-dc5a-4d59-ac52-d200de0f0ac5",
   "metadata": {},
   "outputs": [],
   "source": []
  }
 ],
 "metadata": {
  "kernelspec": {
   "display_name": "Python 3 (ipykernel)",
   "language": "python",
   "name": "python3"
  },
  "language_info": {
   "codemirror_mode": {
    "name": "ipython",
    "version": 3
   },
   "file_extension": ".py",
   "mimetype": "text/x-python",
   "name": "python",
   "nbconvert_exporter": "python",
   "pygments_lexer": "ipython3",
   "version": "3.12.7"
  }
 },
 "nbformat": 4,
 "nbformat_minor": 5
}
