{
 "cells": [
  {
   "cell_type": "code",
   "execution_count": null,
   "id": "2cb19c19-21e2-4fbd-a28d-cdfcfadd5463",
   "metadata": {},
   "outputs": [],
   "source": [
    "import os\n",
    "import sys\n",
    "import matplotlib.pyplot as plt\n",
    "import numpy as np"
   ]
  },
  {
   "cell_type": "code",
   "execution_count": null,
   "id": "62374fe8-4468-4e81-8d94-7469abb90d74",
   "metadata": {},
   "outputs": [],
   "source": [
    "def mat_scale(mat):\n",
    "    m = np.max(np.abs(mat))\n",
    "    if m == 0.:\n",
    "        return 0.0001\n",
    "    return m"
   ]
  },
  {
   "cell_type": "code",
   "execution_count": null,
   "id": "50f522da-3634-4c4d-9a38-6a5c56026519",
   "metadata": {},
   "outputs": [],
   "source": [
    "#sys.path.insert(1, os.path.join(\"C:\\\\\", \"Soham\", \"Git\", \"spectral-NN\", \"source_codes\"))\n",
    "sys.path.insert(1, os.path.join(\"C:\\\\\", \"Users\", \"Soham\", \"Git\", \"spectral-NN\", \"source_codes\"))\n",
    "#sys.path.insert(1, os.path.join(\"/home\", \"soham\", \"GitHub\", \"spectral-NN\", \"source_codes\"))\n",
    "\n",
    "import spectral_NN_setup as setup\n",
    "\n",
    "dirc = setup.directory"
   ]
  },
  {
   "cell_type": "code",
   "execution_count": null,
   "id": "dcaff526-77f3-4adb-81a1-8d5452a3652a",
   "metadata": {},
   "outputs": [],
   "source": [
    "u = np.loadtxt(dirc+\"locations.dat\",dtype=\"float32\")\n",
    "if len(u.shape)==1:\n",
    "    d = 1\n",
    "else:\n",
    "    d = u.shape[1]\n",
    "del u"
   ]
  },
  {
   "cell_type": "code",
   "execution_count": null,
   "id": "000f8c45-ff43-4008-ac07-34e55dfcdcc6",
   "metadata": {},
   "outputs": [],
   "source": [
    "true_loc = np.loadtxt(dirc+\"True_locations_grid.dat\",dtype=\"float32\")\n",
    "if d == 1:\n",
    "    true_loc = true_loc.reshape(-1,1)\n",
    "D_tr = true_loc.shape[0]\n",
    "        \n",
    "true_thetas = np.loadtxt(dirc+\"True_thetas_grid.dat\",dtype=\"float32\")\n",
    "K_theta = len(true_thetas)\n",
    "spect_tr = np.loadtxt(dirc+\"True_spectrum_grid.dat\",dtype=\"float32\")"
   ]
  },
  {
   "cell_type": "code",
   "execution_count": null,
   "id": "3ed9f6b5-6e72-4976-8d29-bf8b76cd9df9",
   "metadata": {},
   "outputs": [],
   "source": [
    "for t, theta in enumerate(true_thetas):\n",
    "    cospect_tr = spect_tr[t*D_tr:(t+1)*D_tr,:D_tr]\n",
    "    quadspect_tr = spect_tr[t*D_tr:(t+1)*D_tr,D_tr:]\n",
    "    theta = true_thetas[t]\n",
    "    \n",
    "    fig, ax = plt.subplots(figsize=(2.5,2.5),ncols=1)\n",
    "    m_ = mat_scale(cospect_tr)\n",
    "    ax.imshow(cospect_tr/m_, origin='lower', cmap='seismic',vmin=-1,vmax=1)\n",
    "    ax.set_xticks(np.linspace(0,D_tr-1,5))\n",
    "    ax.set_xticklabels([])\n",
    "    ax.set_yticks(np.linspace(0,D_tr-1,5))\n",
    "    ax.set_yticklabels([0,0.25,0.5,0.75,1])\n",
    "    ax.set_title(\"{:.3f}\" .format(m_))\n",
    "    ax.set_xticklabels([0,0.25,0.5,0.75,1])\n",
    "    fig.tight_layout()\n",
    "    fig.savefig(os.path.join(\"Plots\",\"True_cospect_\"+str(t+1)+\".pdf\"),\n",
    "                bbox_inches=\"tight\",dpi=600)\n",
    "    plt.close(\"all\")\n",
    "\n",
    "    fig, ax = plt.subplots(figsize=(2.5,2.5),ncols=1)\n",
    "    m_ = mat_scale(quadspect_tr)\n",
    "    ax.imshow(quadspect_tr/m_, origin='lower', cmap='seismic',vmin=-1,vmax=1)\n",
    "    ax.set_xticks(np.linspace(0,D_tr-1,5))\n",
    "    ax.set_xticklabels([])\n",
    "    ax.set_yticks(np.linspace(0,D_tr-1,5))\n",
    "    ax.set_yticklabels([0,0.25,0.5,0.75,1])\n",
    "    ax.set_title(\"{:.3f}\" .format(m_))\n",
    "    ax.set_xticklabels([0,0.25,0.5,0.75,1])\n",
    "    fig.savefig(os.path.join(\"Plots\",\"True_quadspect_\"+str(t+1)+\".pdf\"),\n",
    "                bbox_inches=\"tight\",dpi=600)\n",
    "    plt.close(\"all\")"
   ]
  },
  {
   "cell_type": "code",
   "execution_count": null,
   "id": "c83f70c0-58c4-43a0-b743-e4ab4a0b771e",
   "metadata": {},
   "outputs": [],
   "source": []
  }
 ],
 "metadata": {
  "kernelspec": {
   "display_name": "Python 3 (ipykernel)",
   "language": "python",
   "name": "python3"
  },
  "language_info": {
   "codemirror_mode": {
    "name": "ipython",
    "version": 3
   },
   "file_extension": ".py",
   "mimetype": "text/x-python",
   "name": "python",
   "nbconvert_exporter": "python",
   "pygments_lexer": "ipython3",
   "version": "3.12.4"
  }
 },
 "nbformat": 4,
 "nbformat_minor": 5
}
