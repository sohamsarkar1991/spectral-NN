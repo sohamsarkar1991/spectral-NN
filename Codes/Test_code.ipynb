{
 "cells": [
  {
   "cell_type": "code",
   "execution_count": null,
   "id": "17d17e74-957f-4477-a0c8-7da5a651498d",
   "metadata": {},
   "outputs": [],
   "source": [
    "#!/usr/bin/env python\n",
    "# coding: utf-8\n",
    "\n",
    "import os\n",
    "import sys\n",
    "import time"
   ]
  },
  {
   "cell_type": "code",
   "execution_count": null,
   "id": "9939a161-b1ee-403a-838f-20f81dddbc66",
   "metadata": {},
   "outputs": [],
   "source": [
    "import torch\n",
    "import numpy as np"
   ]
  },
  {
   "cell_type": "code",
   "execution_count": null,
   "id": "967e0f89-37d7-4d0d-8bfd-70a56559283f",
   "metadata": {},
   "outputs": [],
   "source": [
    "sys.path.insert(1, os.path.join(\"C:\\\\\", \"Soham\", \"Git\", \"spectral-NN\", \"source_codes\"))\n",
    "#sys.path.insert(1, os.path.join(\"C:\\\\\", \"Users\", \"Soham\", \"Git\", \"spectral-NN\", \"source_codes\"))\n",
    "#sys.path.insert(1, os.path.join(\"/home\", \"soham\", \"GitHub\", \"spectral-NN\", \"source_codes\"))\n",
    "\n",
    "import SpectralNetworks as spectNN\n",
    "import Important_functions as Ifn\n",
    "import spectral_NN_setup as setup"
   ]
  },
  {
   "cell_type": "code",
   "execution_count": null,
   "id": "9ed0bf9d-057f-4750-bff9-de375ee3c003",
   "metadata": {},
   "outputs": [],
   "source": [
    "dirc = \"C:\\\\Soham\\\\Git\\\\spectral-NN\\\\Data\\\\\"\n",
    "#dirc = \"C:\\\\Users\\\\Soham\\\\Git\\\\spectral-NN\\\\Data\\\\\"\n",
    "#dirc = \"/home/soham/GitHub/spectral-NN/Data/\""
   ]
  },
  {
   "cell_type": "code",
   "execution_count": null,
   "id": "e91945d5-b8d8-4602-b298-32e493c2fcb9",
   "metadata": {},
   "outputs": [],
   "source": [
    "act_fn=torch.nn.Sigmoid()\n",
    "init=torch.nn.init.xavier_normal_\n",
    "wt_fn = Ifn.kern_truncated\n",
    "#wt_fn = Ifn.kern_bartlett\n",
    "#wt_fn = Ifn.kern_parzen\n",
    "epochs = 1000\n",
    "replicates = range(25)"
   ]
  },
  {
   "cell_type": "code",
   "execution_count": null,
   "id": "8a026378-f607-48be-9ad8-fd31e6f09217",
   "metadata": {},
   "outputs": [],
   "source": [
    "if not os.path.isdir(\"Results\"):\n",
    "    os.mkdir(\"Results\")"
   ]
  },
  {
   "cell_type": "code",
   "execution_count": null,
   "id": "98d9c0c6-ee42-42d4-8f75-e8f18dffe537",
   "metadata": {},
   "outputs": [],
   "source": [
    "def spectral_NN_Deep(M,L,depth,width,q):\n",
    "    for repl in replicates:\n",
    "        print('Example'+str(repl+1)+':')\n",
    "        u = np.loadtxt(dirc+\"locations.dat\",dtype=\"float32\")\n",
    "        if len(u.shape)==1:\n",
    "            D, d = len(u), 1\n",
    "            u = u.reshape(D,1)\n",
    "        else:\n",
    "            D, d = u.shape\n",
    "        u = torch.from_numpy(u)\n",
    "        x = np.loadtxt(dirc+'Example'+str(repl+1)+'.dat',dtype='float32')\n",
    "        N = x.shape[0]\n",
    "        if x.shape[1] != D:\n",
    "            exit('Data shape mismatch!! Aborting..')\n",
    "        print('N='+str(N)+', D='+str(D)+', d='+str(d))\n",
    "\n",
    "        x = torch.from_numpy(x)\n",
    "        x = x - torch.mean(x,dim=0,keepdim=True)\n",
    "    \n",
    "        #model = spectNN.spectralNNShallow(N,d,M,L,act_fn,init)\n",
    "        model = spectNN.spectralNNDeep(N,d,M,L,depth,width,act_fn,init)\n",
    "        #model = spectNN.spectralNNDeepshared1(N,d,M,L,depth,width,act_fn,init)\n",
    "        #model = spectNN.spectralNNDeepshared2(N,d,M,L,depth,width,act_fn,init)\n",
    "        #model = spectNN.spectralNNDeepshared3(N,d,M,L,depth,width,act_fn,init)\n",
    "\n",
    "        err_file = os.path.join(\"Results\",\"spectral_Deep_\"+str(M)+\"_\"+str(L)+\"_\"+str(depth)+\"_\"+str(width)+\".txt\")\n",
    "\n",
    "        optimizer = torch.optim.Adam(model.params,lr=0.01)\n",
    "        loss = Ifn.loss_spectralNN(N, wt_fn, grid_size=100, q=q)\n",
    "        print(\"Fitting the model ...\")\n",
    "        start_time = time.time()\n",
    "        #l_tr = []\n",
    "        for epoch in range(epochs):\n",
    "            l = loss.loss_fn(x,model(u))\n",
    "            optimizer.zero_grad()\n",
    "            l.backward()\n",
    "            optimizer.step()\n",
    "            #l_tr.append(l.item())\n",
    "        time_ellapsed = time.time() - start_time\n",
    "        print(\"Time taken: {} seconds\" .format(time_ellapsed))\n",
    "\n",
    "        with torch.no_grad():\n",
    "            num = loss.loss_fn(x,model(u)).item()\n",
    "            den = loss.loss_fn(x,0*x).item()\n",
    "            train_err = num/den\n",
    "        print(\"Relative training error: {:.2f}%\" .format(train_err*100))\n",
    "        print(\"Numerator: {:.4f}, Denominator: {:.4f}\" .format(num,den))\n",
    "\n",
    "        spect_dens_est = Ifn.spectral_density_evaluation(model, q=q, wt_fn=wt_fn)\n",
    "        theta_file = dirc+\"True_thetas\"+str(repl+1)+\".dat\"\n",
    "        loc_file = dirc+\"True_locations\"+str(repl+1)+\".dat\"\n",
    "        spect_file = dirc+\"True_spectrum\"+str(repl+1)+\".dat\"\n",
    "\n",
    "        test_err,num,den,tr_re,tr_im,err_re,err_im = Ifn.spectral_error_computation(spect_dens_est,theta_file,loc_file,spect_file)\n",
    "\n",
    "        print(\"Relative test error: {:.2f}%\" .format(test_err*100))\n",
    "        print(\"Numerator: {:.4f}, Denominator: {:.4f}\" .format(num,den))\n",
    "        print(\"Real part: Error - {:.4f}, Actual - {:.4f}\" .format(err_re,tr_re))\n",
    "        print(\"Imaginary part: Error - {:.4f}, Actual - {:.4f}\" .format(err_im,tr_im))\n",
    "        f_err = open(err_file,\"a\")\n",
    "        f_err.write(\"Example{}:\\n\" .format(repl+1))\n",
    "        f_err.write(\"Fitting time - {:.10f} seconds\\n\" .format(time_ellapsed))\n",
    "        f_err.write(\"Relative errors: Training - {:.10f}\\tTest - {:.10f}\\n\" .format(train_err,test_err))\n",
    "        f_err.write(\"Real part: Error - {:.4f}, Actual - {:.4f}\\n\" .format(err_re,tr_re))\n",
    "        f_err.write(\"Imaginary part: Error - {:.4f}, Actual - {:.4f}\\n\\n\" .format(err_im,tr_im))\n",
    "        f_err.close()\n",
    "    return 0."
   ]
  }
 ],
 "metadata": {
  "kernelspec": {
   "display_name": "Python 3 (ipykernel)",
   "language": "python",
   "name": "python3"
  },
  "language_info": {
   "codemirror_mode": {
    "name": "ipython",
    "version": 3
   },
   "file_extension": ".py",
   "mimetype": "text/x-python",
   "name": "python",
   "nbconvert_exporter": "python",
   "pygments_lexer": "ipython3",
   "version": "3.12.4"
  }
 },
 "nbformat": 4,
 "nbformat_minor": 5
}
