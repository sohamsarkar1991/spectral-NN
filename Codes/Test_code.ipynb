{
 "cells": [
  {
   "cell_type": "code",
   "execution_count": null,
   "id": "e66d00d0-93d5-45a4-8283-090bd205dc86",
   "metadata": {},
   "outputs": [],
   "source": [
    "import os\n",
    "import sys\n",
    "import time\n",
    "\n",
    "#sys.path.insert(1, os.path.join(\"C:\\\\\", \"Users\", \"Soham\", \"Git\", \"spectral-NN\", \"source_codes\"))\n",
    "sys.path.insert(1, os.path.join(\"/home\", \"soham\", \"Git\", \"spectral-NN\", \"source_codes\"))"
   ]
  },
  {
   "cell_type": "code",
   "execution_count": null,
   "id": "c0109e2c-33da-4b10-bb4c-d37196ecfb8b",
   "metadata": {},
   "outputs": [],
   "source": [
    "from spectral_NN_multirun import spectral_NN_multirun as multirun"
   ]
  },
  {
   "cell_type": "code",
   "execution_count": null,
   "id": "d7aa05b2-78b1-4f91-99ed-2e4dc626e971",
   "metadata": {},
   "outputs": [],
   "source": [
    "method = \"Shallow\"\n",
    "M = 10\n",
    "L = 10\n",
    "depth = None\n",
    "width = 20\n",
    "q = 10\n",
    "multirun(method,M,L,depth,width,q)"
   ]
  },
  {
   "cell_type": "code",
   "execution_count": null,
   "id": "1f8d9a52-cf9f-4ff7-930d-4ce06819c5ab",
   "metadata": {},
   "outputs": [],
   "source": [
    "method = \"Deep\"\n",
    "M = 10\n",
    "L = 10\n",
    "depth = 4\n",
    "width = 20\n",
    "q = 10\n",
    "multirun(method,M,L,depth,width,q)"
   ]
  },
  {
   "cell_type": "code",
   "execution_count": null,
   "id": "0f3a80af-33e4-4a88-8f52-e1c1212fdedf",
   "metadata": {},
   "outputs": [],
   "source": [
    "method = \"Deepshared1\"\n",
    "M = 10\n",
    "L = 10\n",
    "depth = 4\n",
    "width = 20\n",
    "q = 10\n",
    "multirun(method,M,L,depth,width,q)"
   ]
  },
  {
   "cell_type": "code",
   "execution_count": null,
   "id": "b48624fd-d316-405a-8ce8-ad42a56e5f24",
   "metadata": {},
   "outputs": [],
   "source": [
    "method = \"Deepshared2\"\n",
    "M = 10\n",
    "L = 10\n",
    "depth = 4\n",
    "width = 20\n",
    "q = 10\n",
    "multirun(method,M,L,depth,width,q)"
   ]
  },
  {
   "cell_type": "code",
   "execution_count": null,
   "id": "1223d71c-91e4-4503-ab2d-1909069b4b57",
   "metadata": {},
   "outputs": [],
   "source": [
    "method = \"Deepshared3\"\n",
    "M = 10\n",
    "L = 10\n",
    "depth = 4\n",
    "width = 20\n",
    "q = 10\n",
    "multirun(method,M,L,depth,width,q)"
   ]
  },
  {
   "cell_type": "code",
   "execution_count": null,
   "id": "c00d35e6-7f7d-446b-8c52-78604678cf46",
   "metadata": {},
   "outputs": [],
   "source": []
  }
 ],
 "metadata": {
  "kernelspec": {
   "display_name": "Python 3 (ipykernel)",
   "language": "python",
   "name": "python3"
  },
  "language_info": {
   "codemirror_mode": {
    "name": "ipython",
    "version": 3
   },
   "file_extension": ".py",
   "mimetype": "text/x-python",
   "name": "python",
   "nbconvert_exporter": "python",
   "pygments_lexer": "ipython3",
   "version": "3.13.1"
  }
 },
 "nbformat": 4,
 "nbformat_minor": 5
}
