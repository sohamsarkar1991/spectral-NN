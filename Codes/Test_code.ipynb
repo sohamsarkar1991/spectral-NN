{
 "cells": [
  {
   "cell_type": "code",
   "execution_count": null,
   "id": "17d17e74-957f-4477-a0c8-7da5a651498d",
   "metadata": {},
   "outputs": [],
   "source": [
    "#!/usr/bin/env python\n",
    "# coding: utf-8\n",
    "\n",
    "import os\n",
    "import sys\n",
    "import time"
   ]
  },
  {
   "cell_type": "code",
   "execution_count": null,
   "id": "9939a161-b1ee-403a-838f-20f81dddbc66",
   "metadata": {},
   "outputs": [],
   "source": [
    "import torch\n",
    "import numpy as np"
   ]
  },
  {
   "cell_type": "code",
   "execution_count": null,
   "id": "111d2850-d7a8-4890-91df-b6694cddb1dc",
   "metadata": {},
   "outputs": [],
   "source": [
    "import matplotlib.pyplot as plt"
   ]
  },
  {
   "cell_type": "code",
   "execution_count": null,
   "id": "a9d13df6-c085-4160-8ff7-d5ccc308af6b",
   "metadata": {},
   "outputs": [],
   "source": [
    "sys.path.insert(1, os.path.join(\"C:\\\\\", \"Soham\", \"Git\", \"spectral-NN\", \"source_codes\"))\n",
    "#sys.path.insert(1, os.path.join(\"C:\\\\\", \"Users\", \"Soham\", \"Git\", \"spectral-NN\", \"source_codes\"))\n",
    "#sys.path.insert(1, os.path.join(\"/home\", \"soham\", \"GitHub\", \"spectral-NN\", \"source_codes\"))\n",
    "\n",
    "import SpectralNetworks as spectNN\n",
    "import Important_functions as Ifn\n",
    "#import Other_functions as Ofn"
   ]
  },
  {
   "cell_type": "raw",
   "id": "727855be-2128-41c7-abb8-d5c6f9817e1f",
   "metadata": {},
   "source": [
    "import current_setup as setup\n",
    "\n",
    "### Update\n",
    "\n",
    "method = input(\"Model [Shallow/Deepshared/Deep]: \")\n",
    "if method.lower() == 'deepshared' or method.lower() == 'deep':\n",
    "    depth = input(\"Depth of the network: \")\n",
    "    depth = int(depth)\n",
    "R = input(\"Number of components (R): \")\n",
    "R = int(R)\n",
    "\n",
    "act_fn = setup.act_fn\n",
    "init = setup.init\n",
    "#loss = 'COV'\n",
    "loss_fn = Ifn.loss_COV\n",
    "\n",
    "if method.lower()=='shallow':\n",
    "    err_file = 'Err_'+method+'_'+str(R)+'.txt'\n",
    "elif method.lower()=='deepshared' or method.lower() == 'deep':\n",
    "    err_file = 'Err_'+method+'_'+str(depth)+'_'+str(R)+'.txt'\n",
    "\n",
    "dirc = setup.directory\n",
    "replicates = setup.replicates"
   ]
  },
  {
   "cell_type": "code",
   "execution_count": null,
   "id": "98d9c0c6-ee42-42d4-8f75-e8f18dffe537",
   "metadata": {},
   "outputs": [],
   "source": [
    "dirc = \"C:\\\\Soham\\\\Git\\\\spectral-NN\\\\Data\\\\\"\n",
    "#dirc = \"C:\\\\Users\\\\Soham\\\\Git\\\\spectral-NN\\\\Data\\\\\"\n",
    "#dirc = \"/home/soham/GitHub/spectral-NN/Data/\"\n",
    "repl = 0"
   ]
  },
  {
   "cell_type": "code",
   "execution_count": null,
   "id": "b22a653e-a3d2-4232-b97f-bcd7ee68f5d7",
   "metadata": {},
   "outputs": [],
   "source": [
    "    print('Example'+str(repl+1)+':')\n",
    "    file = dirc+'locations'+str(repl+1)+'.dat'\n",
    "    u = np.loadtxt(dirc+\"locations.dat\",dtype=\"float32\")\n",
    "    if len(u.shape)==1:\n",
    "        D, d = len(u), 1\n",
    "        u = u.reshape(D,1)\n",
    "    else:\n",
    "        D, d = u.shape\n",
    "    u = torch.from_numpy(u)\n",
    "    file = dirc+'Example'+str(repl+1)+'.dat'\n",
    "    x = np.loadtxt(file,dtype='float32')\n",
    "    N = x.shape[0]\n",
    "    if x.shape[1] != D:\n",
    "        exit('Data shape mismatch!! Aborting..')\n",
    "    print('N='+str(N)+', D='+str(D)+', d='+str(d))\n",
    "\n",
    "    x = torch.from_numpy(x)\n",
    "    x = x - torch.mean(x,dim=0,keepdim=True)"
   ]
  },
  {
   "cell_type": "raw",
   "id": "e1d69edb-a840-4226-88d5-371a296a0fa8",
   "metadata": {},
   "source": [
    "for repl in replicates:\n",
    "    print('Example'+str(repl+1)+':')\n",
    "    file = dirc+'locations'+str(repl+1)+'.dat'\n",
    "    u = np.loadtxt(file,dtype='float32')\n",
    "    D, d = u.shape\n",
    "    u = torch.from_numpy(u)\n",
    "    file = dirc+'Example'+str(repl+1)+'.dat'\n",
    "    x = np.loadtxt(file,dtype='float32')\n",
    "    N = x.shape[0]\n",
    "    if x.shape[1] != D:\n",
    "        exit('Data shape mismatch!! Aborting..')\n",
    "    print('N='+str(N)+', D='+str(D)+', d='+str(d))\n",
    "    \n",
    "    x = torch.from_numpy(x)\n",
    "    #x = x - torch.mean(x,dim=0,keepdim=True)\n",
    "\n",
    "    if method.lower()=='shallow':\n",
    "        epochs = setup.epochs_shallow\n",
    "        burn_in = setup.burn_in_shallow\n",
    "        interval = setup.interval_shallow\n",
    "        model = CN.CovNetShallow(d,N,R,act_fn,init)\n",
    "        checkpoint_file = 'Best_'+method+'_'+str(R)+'.pt'\n",
    "    elif method.lower()=='deepshared':\n",
    "        epochs = setup.epochs_deepshared\n",
    "        burn_in = setup.burn_in_deepshared\n",
    "        interval = setup.interval_deepshared\n",
    "        model = CN.CovNetDeepShared(d,N,R,depth,act_fn,init)\n",
    "        checkpoint_file = 'Best_'+method+'_'+str(depth)+'_'+str(R)+'.pt'\n",
    "    elif method.lower()=='deep':\n",
    "        epochs = setup.epochs_deep\n",
    "        burn_in = setup.burn_in_deep\n",
    "        interval = setup.interval_deep\n",
    "        n_nodes = R\n",
    "        model = CN.CovNetDeep(d,N,R,depth,n_nodes,act_fn,init)\n",
    "        checkpoint_file = 'Best_'+method+'_'+str(depth)+'_'+str(R)+'.pt'\n",
    "        \n",
    "    optimizer = setup.optimizer(model.params,lr=setup.lr)\n",
    "    split = setup.split\n",
    "    \n",
    "    print(time.ctime())\n",
    "    l_tr, l_va, epoch = Ifn.cnet_optim_best(x,u,model,loss_fn,optimizer,split,epochs,burn_in,interval,checkpoint_file)\n",
    "    del x,u\n",
    "    \n",
    "    file = dirc+'True_locations'+str(repl+1)+'.dat'\n",
    "    loc = np.loadtxt(file,dtype='float32')\n",
    "    u = torch.from_numpy(loc[:,:d])\n",
    "    v = torch.from_numpy(loc[:,d:])\n",
    "    del loc\n",
    "    cov_file = dirc+'True_cov'+str(repl+1)+'.dat'\n",
    "    err = Ofn.cnet_error_MC(model,u,v,cov_file)\n",
    "    \n",
    "    f_Err = open(err_file,'a')\n",
    "    f_Err.write('Example{}:\\n' .format(repl+1))\n",
    "    f_Err.write('Error = {:.10f}\\n' .format(err))\n",
    "    f_Err.write('Number of epochs = {}\\n' .format(epoch))\n",
    "    f_Err.close()\n",
    "    print('Error = {:.6f}'.format(err))\n",
    "    print('Number of epochs = {}' .format(epoch))\n",
    "    print(time.ctime())\n",
    "    print('\\n')\n",
    "    os.remove(checkpoint_file)"
   ]
  },
  {
   "cell_type": "code",
   "execution_count": null,
   "id": "8ee3a05e-6547-4a0b-be58-e4077ca6ddd1",
   "metadata": {},
   "outputs": [],
   "source": [
    "M, L, depth, width = 10, 10, 3, 20\n",
    "act_fn=torch.nn.Sigmoid()\n",
    "init=torch.nn.init.xavier_normal_\n",
    "\n",
    "#model = spectNN.spectralNNShallow(N,d,M,L,act_fn,init)\n",
    "#model = spectNN.spectralNNDeep(N,d,M,L,depth,width,act_fn,init)\n",
    "model = spectNN.spectralNNDeepshared1(N,d,M,L,depth,width,act_fn,init)\n",
    "#model = spectNN.spectralNNDeepshared2(N,d,M,L,depth,width,act_fn,init)\n",
    "#model = spectNN.spectralNNDeepshared3(N,d,M,L,depth,width,act_fn,init)\n",
    "\n",
    "#wt_fn = Ifn.kern_truncated\n",
    "#wt_fn = Ifn.kern_bartlett\n",
    "wt_fn = Ifn.kern_parzen\n",
    "loss = Ifn.loss_spectralNN(N, wt_fn, grid_size=100, q=10)\n",
    "optimizer = torch.optim.Adam(model.params,lr=0.01)\n",
    "epochs = 1000"
   ]
  },
  {
   "cell_type": "code",
   "execution_count": null,
   "id": "406a390a-aef1-4ec1-bcca-b4035ffade41",
   "metadata": {},
   "outputs": [],
   "source": [
    "print(\"Fitting the model ...\")\n",
    "start_time = time.time()\n",
    "l_tr = []\n",
    "for epoch in range(epochs):\n",
    "    l = loss.loss_fn(x,model(u))\n",
    "    optimizer.zero_grad()\n",
    "    l.backward()\n",
    "    optimizer.step()\n",
    "    l_tr.append(l.item())\n",
    "time_ellapsed = time.time() - start_time\n",
    "print(\"Time taken: {} seconds\" .format(time_ellapsed))\n",
    "\n",
    "fig, ax = plt.subplots(figsize=(5,5))\n",
    "ax.plot(l_tr)\n",
    "plt.show()\n",
    "\n",
    "with torch.no_grad():\n",
    "    num = loss.loss_fn(x,model(u)).item()\n",
    "    den = loss.loss_fn(x,0*x).item()\n",
    "    print(\"Relative error: {:.2f}%\" .format(num/den*100))\n",
    "    print(\"Numerator: {:.4f}, Denominator: {:.4f}\" .format(num,den))"
   ]
  },
  {
   "cell_type": "raw",
   "id": "1a655679-1cb0-4702-a7bf-8eddc19e8772",
   "metadata": {},
   "source": [
    "class spectral_density_evaluation:\n",
    "    \"\"\"Module to evaluate the spectral density estimator for a fitted spectral-NN model\"\"\"\n",
    "    def __init__(self, model, q, wt_fn):\n",
    "        self.N = model.N\n",
    "        self.M = model.M\n",
    "        self.L = model.L\n",
    "        self.q = q\n",
    "        self.model = model\n",
    "        self.hs = torch.arange(start=-self.q,end=self.q+0.5,step=1.,dtype=torch.float32,requires_grad=False)\n",
    "        self.w = wt_fn(self.hs/self.q)\n",
    "\n",
    "        self.lam = torch.empty([self.M,self.M,2*self.L+1,2*self.L+1,2*self.q+1],dtype=torch.float32,requires_grad=False)\n",
    "        with torch.no_grad():\n",
    "            for h in range(2*self.q+1):\n",
    "                N1 = self.N-h\n",
    "                for j1 in range(2*self.L+1):\n",
    "                    for j2 in range(2*self.L+1):\n",
    "                        self.lam[:,:,j1,j2,h] = torch.einsum(\"ij,kj -> ik\", model.xi[:,(j1+h):(j1+h+N1)], model.xi[:,j2:(j2+N1)])/self.N\n",
    "\n",
    "        def evaluate(self, theta, u, v):\n",
    "            with torch.no_grad():\n",
    "                #Gu = self.model.first_step(u) # ((g_{m,h}(u))) size M x 2L+1 x D\n",
    "                #Gv = self.model.first_step(v) # ((g_{m,h}(v))) size M x 2L+1 x D\n",
    "                auv = torch.einsum(\"ijklm, ikn, jln -> mn\", self.lam, self.model.first_step(u), self.model.first_step(v)) # a_h(u,v) size q x D\n",
    "                return torch.einsum(\"h,h,hj -> j\", self.w, torch.cos(self.hs*theta), auv)"
   ]
  },
  {
   "cell_type": "code",
   "execution_count": null,
   "id": "3b4c2a1b-4574-4a7e-b80b-73044390d47e",
   "metadata": {},
   "outputs": [],
   "source": [
    "import Important_functions as Ifn"
   ]
  },
  {
   "cell_type": "code",
   "execution_count": null,
   "id": "de0d922d-958a-4b30-a8c0-52337c7652df",
   "metadata": {},
   "outputs": [],
   "source": [
    "spect_dens_est = Ifn.spectral_density_evaluation(model, q=10, wt_fn=wt_fn)"
   ]
  },
  {
   "cell_type": "code",
   "execution_count": null,
   "id": "149a86ec-c4ae-423f-b0d7-841ce5538047",
   "metadata": {},
   "outputs": [],
   "source": [
    "v = u\n",
    "theta = (2*torch.rand(1)-1)*np.pi\n",
    "f_hat = spect_dens_est.evaluate(theta, u, v)\n",
    "print(f_hat)"
   ]
  },
  {
   "cell_type": "code",
   "execution_count": null,
   "id": "45243a87-c1eb-4f1c-924e-9dd2813ee2a9",
   "metadata": {},
   "outputs": [],
   "source": []
  }
 ],
 "metadata": {
  "kernelspec": {
   "display_name": "Python 3 (ipykernel)",
   "language": "python",
   "name": "python3"
  },
  "language_info": {
   "codemirror_mode": {
    "name": "ipython",
    "version": 3
   },
   "file_extension": ".py",
   "mimetype": "text/x-python",
   "name": "python",
   "nbconvert_exporter": "python",
   "pygments_lexer": "ipython3",
   "version": "3.12.4"
  }
 },
 "nbformat": 4,
 "nbformat_minor": 5
}
