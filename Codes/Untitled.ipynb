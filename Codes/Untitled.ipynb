{
 "cells": [
  {
   "cell_type": "code",
   "execution_count": null,
   "id": "17d17e74-957f-4477-a0c8-7da5a651498d",
   "metadata": {},
   "outputs": [],
   "source": [
    "#!/usr/bin/env python\n",
    "# coding: utf-8\n",
    "\n",
    "import os\n",
    "import sys\n",
    "import time"
   ]
  },
  {
   "cell_type": "code",
   "execution_count": null,
   "id": "9939a161-b1ee-403a-838f-20f81dddbc66",
   "metadata": {},
   "outputs": [],
   "source": [
    "import torch\n",
    "import numpy as np"
   ]
  },
  {
   "cell_type": "raw",
   "id": "2ae81821-123d-4786-b1da-56721eb0dcc9",
   "metadata": {},
   "source": [
    "#sys.path.insert(1, os.path.join(\"C:\\\\\", \"Users\", \"Soham\", \"Desktop\", \"CovNet\", \"source_codes\"))\n",
    "## modify as needed\n",
    "\n",
    "import CovNetworks as CN\n",
    "import Important_functions as Ifn\n",
    "import Other_functions as Ofn"
   ]
  },
  {
   "cell_type": "raw",
   "id": "727855be-2128-41c7-abb8-d5c6f9817e1f",
   "metadata": {},
   "source": [
    "import current_setup as setup\n",
    "\n",
    "### Update\n",
    "\n",
    "method = input(\"Model [Shallow/Deepshared/Deep]: \")\n",
    "if method.lower() == 'deepshared' or method.lower() == 'deep':\n",
    "    depth = input(\"Depth of the network: \")\n",
    "    depth = int(depth)\n",
    "R = input(\"Number of components (R): \")\n",
    "R = int(R)\n",
    "\n",
    "act_fn = setup.act_fn\n",
    "init = setup.init\n",
    "#loss = 'COV'\n",
    "loss_fn = Ifn.loss_COV\n",
    "\n",
    "if method.lower()=='shallow':\n",
    "    err_file = 'Err_'+method+'_'+str(R)+'.txt'\n",
    "elif method.lower()=='deepshared' or method.lower() == 'deep':\n",
    "    err_file = 'Err_'+method+'_'+str(depth)+'_'+str(R)+'.txt'\n",
    "\n",
    "dirc = setup.directory\n",
    "replicates = setup.replicates"
   ]
  },
  {
   "cell_type": "code",
   "execution_count": null,
   "id": "98d9c0c6-ee42-42d4-8f75-e8f18dffe537",
   "metadata": {},
   "outputs": [],
   "source": [
    "dirc = \"C:\\\\Soham\\\\Git\\\\spectral-NN\\\\Data\\\\\"\n",
    "repl = 0"
   ]
  },
  {
   "cell_type": "code",
   "execution_count": null,
   "id": "b22a653e-a3d2-4232-b97f-bcd7ee68f5d7",
   "metadata": {},
   "outputs": [],
   "source": [
    "    print('Example'+str(repl+1)+':')\n",
    "    file = dirc+'locations'+str(repl+1)+'.dat'\n",
    "    u = np.loadtxt(dirc+\"locations.dat\",dtype=\"float32\")\n",
    "    if len(u.shape)==1:\n",
    "        D, d = len(u), 1\n",
    "        u = u.reshape(D,1)\n",
    "    else:\n",
    "        D, d = u.shape\n",
    "    u = torch.from_numpy(u)\n",
    "    file = dirc+'Example'+str(repl+1)+'.dat'\n",
    "    x = np.loadtxt(file,dtype='float32')\n",
    "    N = x.shape[0]\n",
    "    if x.shape[1] != D:\n",
    "        exit('Data shape mismatch!! Aborting..')\n",
    "    print('N='+str(N)+', D='+str(D)+', d='+str(d))\n",
    "\n",
    "    x = torch.from_numpy(x)\n",
    "    x = x - torch.mean(x,dim=0,keepdim=True)"
   ]
  },
  {
   "cell_type": "raw",
   "id": "e1d69edb-a840-4226-88d5-371a296a0fa8",
   "metadata": {},
   "source": [
    "for repl in replicates:\n",
    "    print('Example'+str(repl+1)+':')\n",
    "    file = dirc+'locations'+str(repl+1)+'.dat'\n",
    "    u = np.loadtxt(file,dtype='float32')\n",
    "    D, d = u.shape\n",
    "    u = torch.from_numpy(u)\n",
    "    file = dirc+'Example'+str(repl+1)+'.dat'\n",
    "    x = np.loadtxt(file,dtype='float32')\n",
    "    N = x.shape[0]\n",
    "    if x.shape[1] != D:\n",
    "        exit('Data shape mismatch!! Aborting..')\n",
    "    print('N='+str(N)+', D='+str(D)+', d='+str(d))\n",
    "    \n",
    "    x = torch.from_numpy(x)\n",
    "    #x = x - torch.mean(x,dim=0,keepdim=True)\n",
    "\n",
    "    if method.lower()=='shallow':\n",
    "        epochs = setup.epochs_shallow\n",
    "        burn_in = setup.burn_in_shallow\n",
    "        interval = setup.interval_shallow\n",
    "        model = CN.CovNetShallow(d,N,R,act_fn,init)\n",
    "        checkpoint_file = 'Best_'+method+'_'+str(R)+'.pt'\n",
    "    elif method.lower()=='deepshared':\n",
    "        epochs = setup.epochs_deepshared\n",
    "        burn_in = setup.burn_in_deepshared\n",
    "        interval = setup.interval_deepshared\n",
    "        model = CN.CovNetDeepShared(d,N,R,depth,act_fn,init)\n",
    "        checkpoint_file = 'Best_'+method+'_'+str(depth)+'_'+str(R)+'.pt'\n",
    "    elif method.lower()=='deep':\n",
    "        epochs = setup.epochs_deep\n",
    "        burn_in = setup.burn_in_deep\n",
    "        interval = setup.interval_deep\n",
    "        n_nodes = R\n",
    "        model = CN.CovNetDeep(d,N,R,depth,n_nodes,act_fn,init)\n",
    "        checkpoint_file = 'Best_'+method+'_'+str(depth)+'_'+str(R)+'.pt'\n",
    "        \n",
    "    optimizer = setup.optimizer(model.params,lr=setup.lr)\n",
    "    split = setup.split\n",
    "    \n",
    "    print(time.ctime())\n",
    "    l_tr, l_va, epoch = Ifn.cnet_optim_best(x,u,model,loss_fn,optimizer,split,epochs,burn_in,interval,checkpoint_file)\n",
    "    del x,u\n",
    "    \n",
    "    file = dirc+'True_locations'+str(repl+1)+'.dat'\n",
    "    loc = np.loadtxt(file,dtype='float32')\n",
    "    u = torch.from_numpy(loc[:,:d])\n",
    "    v = torch.from_numpy(loc[:,d:])\n",
    "    del loc\n",
    "    cov_file = dirc+'True_cov'+str(repl+1)+'.dat'\n",
    "    err = Ofn.cnet_error_MC(model,u,v,cov_file)\n",
    "    \n",
    "    f_Err = open(err_file,'a')\n",
    "    f_Err.write('Example{}:\\n' .format(repl+1))\n",
    "    f_Err.write('Error = {:.10f}\\n' .format(err))\n",
    "    f_Err.write('Number of epochs = {}\\n' .format(epoch))\n",
    "    f_Err.close()\n",
    "    print('Error = {:.6f}'.format(err))\n",
    "    print('Number of epochs = {}' .format(epoch))\n",
    "    print(time.ctime())\n",
    "    print('\\n')\n",
    "    os.remove(checkpoint_file)"
   ]
  },
  {
   "cell_type": "code",
   "execution_count": null,
   "id": "e84d5272-b25f-4cb7-90c2-25ec32caca90",
   "metadata": {},
   "outputs": [],
   "source": []
  },
  {
   "cell_type": "raw",
   "id": "55e5f526-949e-4fb4-9bbe-eb27e4659b96",
   "metadata": {},
   "source": [
    "### Old implementation\n",
    "### Slower\n",
    "\n",
    "\"\"\"\n",
    "class spectralNNShallow(torch.nn.Module):\n",
    "    def __init__(self,N,d,M,L,act_fn=torch.nn.Sigmoid(),init=torch.nn.init.xavier_normal_):\n",
    "        super(spectralNNShallow, self).__init__()\n",
    "        self.N = N\n",
    "        self.L = L\n",
    "        self.act_fn = act_fn\n",
    "        self.init = init\n",
    "        self.weight = torch.zeros([M,2*L+1,d],dtype=torch.float32,requires_grad=True) #weights of the shallow networks\n",
    "        self.bias = torch.zeros([M,2*L+1,1],dtype=torch.float32,requires_grad=True) #biases of the shallow networks\n",
    "        self.xi = torch.zeros([M,N+2*L],dtype=torch.float32,requires_grad=True) #the multipliers xi_{m,h}\n",
    "        self.init(self.weight)\n",
    "        self.init(self.xi)\n",
    "        self.params = list([self.weight, self.xi, self.bias])\n",
    "        ### add bias term\n",
    "\n",
    "    def first_step(self, u):\n",
    "        return self.act_fn(torch.einsum(\"ijk,lk -> ijl\", self.weight, u) + self.bias) #an object of size M x 2L+1 x D\n",
    "\n",
    "    def forward(self, u):\n",
    "        D = u.shape[0]\n",
    "        x_hat = torch.zeros([self.N,D],dtype=torch.float32,requires_grad=False)\n",
    "        for i in range(N):\n",
    "            x_hat[i,:] = torch.einsum(\"ij,ijk -> k\", self.xi[:,i:(i+2*self.L+1)], self.first_step(u))\n",
    "        return x_hat\n",
    "\"\"\""
   ]
  },
  {
   "cell_type": "code",
   "execution_count": null,
   "id": "1d40cbe2-7adf-49c3-910f-532da9227e2f",
   "metadata": {},
   "outputs": [],
   "source": [
    "class spectralNNShallow(torch.nn.Module):\n",
    "    def __init__(self,N,d,M,L,act_fn=torch.nn.Sigmoid(),init=torch.nn.init.xavier_normal_):\n",
    "        super(spectralNNShallow, self).__init__()\n",
    "        self.N = N\n",
    "        self.L = L\n",
    "        self.act_fn = act_fn\n",
    "        self.init = init\n",
    "        self.weight = torch.zeros([M,2*L+1,d],dtype=torch.float32,requires_grad=True) #weights of the shallow networks\n",
    "        self.bias = torch.zeros([M,2*L+1,1],dtype=torch.float32,requires_grad=True) #biases of the shallow networks\n",
    "        self.xi = torch.zeros([M,N+2*L],dtype=torch.float32,requires_grad=True) #the multipliers xi_{m,h}\n",
    "        self.init(self.weight)\n",
    "        self.init(self.xi)\n",
    "        self.params = list([self.weight, self.xi, self.bias])\n",
    "        ### add bias term\n",
    "\n",
    "    def first_step(self, u):\n",
    "        return self.act_fn(torch.einsum(\"ijk,lk -> ijl\", self.weight, u) + self.bias) #an object of size M x 2L+1 x D\n",
    "\n",
    "    def iter_prod(self, i, G): ## iterated product with the coefficients in xi\n",
    "        return torch.einsum(\"ij,ijk -> k\", self.xi[:,i:(i+2*self.L+1)], G).reshape(1,-1)\n",
    "\n",
    "    def forward(self, u):\n",
    "        G = self.first_step(u)\n",
    "        return torch.cat([model.iter_prod(i,G) for i in range(self.N)])"
   ]
  },
  {
   "cell_type": "code",
   "execution_count": null,
   "id": "35ee1909-132f-4b74-ad04-6e56995e729e",
   "metadata": {},
   "outputs": [],
   "source": [
    "class loss_spectralNN:\n",
    "    \"\"\"Module to compute the loss function associated with the spectral NN estimator\"\"\"\n",
    "    def __init__(self, wt_fn, grid_size = 100, q=10):\n",
    "        \"\"\"\n",
    "        Args:\n",
    "            grid_size - size of the discrete grid on [-pi,pi]\n",
    "                        for choice of theta\n",
    "            q - lag value\n",
    "        \"\"\"\n",
    "        self.q = q\n",
    "        self.thetas = torch.arange(start=-self.q/(self.q+1),end=self.q/(self.q+1),step=1/(self.q+1),dtype=torch.float32)*np.pi\n",
    "        hs = np.arange(start=-self.q,stop=self.q+0.5,step=1.,dtype=\"float32\")\n",
    "        self.C_diff = torch.from_numpy(np.array([[h1-h2 for h2 in hs] for h1 in hs]))\n",
    "        self.w = torch.from_numpy(wt_fn(hs/self.q))\n",
    "\n",
    "    def inner_sum(self,A11,A22,A12,h1,h2):\n",
    "        if h1 < 0:\n",
    "            h1 = -h1\n",
    "        if h2 < 0:\n",
    "            h2 = -h2\n",
    "        if h1 == 0 and h2 == 0:\n",
    "            a1 = torch.sum(A11*A11)\n",
    "            a2 = torch.sum(A22*A22)\n",
    "            a3 = torch.sum(A12*A12)\n",
    "            return a1 + a2 - 2*a3\n",
    "        elif h1 == 0:\n",
    "            a1 = torch.sum(A11[:,h2:]*A11[:,:-h2])\n",
    "            a2 = torch.sum(A22[:,h2:]*A22[:,:-h2])\n",
    "            a3 = torch.sum(A12[:,h2:]*A12[:,:-h2])\n",
    "            a4 = torch.sum(A12[h2:,:]*A12[:-h2,:])\n",
    "            return a1 + a2 - a3 - a4\n",
    "        elif h2 == 0:\n",
    "            a1 = torch.sum(A11[h1:,:]*A11[:-h1,:])\n",
    "            a2 = torch.sum(A22[h1:,:]*A22[:-h1,:])\n",
    "            a3 = torch.sum(A12[h1:,:]*A12[:-h1,:])\n",
    "            a4 = torch.sum(A12[:,h1:]*A12[:,:-h1])\n",
    "            return a1 + a2 - a3 - a4\n",
    "        else:\n",
    "            a1 = torch.sum(A11[h1:,h2:]*A11[:-h1,:-h2])\n",
    "            a2 = torch.sum(A22[h1:,h2:]*A22[:-h1,:-h2])\n",
    "            a3 = torch.sum(A12[h1:,h2:]*A12[:-h1,:-h2])\n",
    "            a4 = torch.sum(A12[h2:,h1:]*A12[:-h2,:-h1])\n",
    "            return a1 + a2 - a3 - a4\n",
    "\n",
    "    def inner_part(self, x, x_tilde):\n",
    "        \"\"\"\n",
    "        Calculates the inner part of the loss function a(h,h') for h,h'=-q,...,q\n",
    "\n",
    "        Args:\n",
    "            x - observed functional time series (NxD matrix)\n",
    "            x_tilde - fitted time seris using neural networks (NxD matrix)\n",
    "        \"\"\"\n",
    "        A11 = torch.matmul(x,x.T)\n",
    "        A22 = torch.matmul(x_tilde,x_tilde.T)\n",
    "        A12 = torch.matmul(x,x_tilde.T)\n",
    "        A = torch.zeros([2*self.q+1,2*self.q+1],dtype=torch.float32,requires_grad=False)\n",
    "        for h1 in range(self.q):\n",
    "            for h2 in range(self.q):\n",
    "                A[self.q+h1,self.q+h2] = self.inner_sum(A11,A22,A12,h1,h2)\n",
    "                A[self.q-h1,self.q-h2] = A[self.q+h1,self.q+h2]\n",
    "                A[self.q-h1,self.q+h2] = A[self.q+h1,self.q+h2]\n",
    "                A[self.q+h1,self.q-h2] = A[self.q+h1,self.q+h2]\n",
    "        return A\n",
    "\n",
    "#    for h1 in range(q):\n",
    "#    for h2 in range(h1,q):\n",
    "#        C[q+h1,q+h2] = inner_sum(A11,A22,A12,h1,h2)\n",
    "#        C[q-h1,q-h2] = C[q+h1,q+h2]\n",
    "#        C[q-h1,q+h2] = C[q+h1,q+h2]\n",
    "#        C[q+h1,q-h2] = C[q+h1,q+h2]\n",
    "#        C[q+h2,q+h1] = C[q+h1,q+h2]\n",
    "#        C[q-h2,q-h1] = C[q+h1,q+h2]\n",
    "#        C[q-h2,q+h1] = C[q+h1,q+h2]\n",
    "#        C[q+h2,q-h1] = C[q+h1,q+h2]\n",
    "\n",
    "    def loss_fn(self, x, x_tilde):\n",
    "        N = x.shape[0]\n",
    "        A = self.inner_part(x, x_tilde)\n",
    "        l = 0.\n",
    "        for theta in self.thetas:\n",
    "            l += torch.sqrt(torch.matmul(self.w,torch.matmul(torch.cos(theta*self.C_diff)*A,self.w)))/N\n",
    "        return l/(2*self.q+1)"
   ]
  },
  {
   "cell_type": "code",
   "execution_count": null,
   "id": "32b071a9-3ffc-4a5e-bdc3-a1157d35e38e",
   "metadata": {},
   "outputs": [],
   "source": [
    "model = spectralNNShallow(N,d,10,4)\n",
    "#x_tilde = model(u)"
   ]
  },
  {
   "cell_type": "code",
   "execution_count": null,
   "id": "8d4aeb52-d417-4566-ae0f-ec853d69107a",
   "metadata": {},
   "outputs": [],
   "source": [
    "wt_fn = lambda x: np.exp(-x**2)"
   ]
  },
  {
   "cell_type": "code",
   "execution_count": null,
   "id": "ad8aa03f-b8e2-4046-a553-bb536cb3fb3f",
   "metadata": {},
   "outputs": [],
   "source": [
    "loss = loss_spectralNN(wt_fn, grid_size=100, q=10)"
   ]
  },
  {
   "cell_type": "code",
   "execution_count": null,
   "id": "9dd3c931-a877-4c40-8a3d-3aea34e2ad8e",
   "metadata": {},
   "outputs": [],
   "source": [
    "#M = 10\n",
    "#L = 10\n",
    "#N = 200\n",
    "#d = 1\n",
    "#K = 100\n",
    "#D = K**d"
   ]
  },
  {
   "cell_type": "code",
   "execution_count": null,
   "id": "1a6cc963-a3dc-4526-b29f-9e61bb788bc1",
   "metadata": {},
   "outputs": [],
   "source": [
    "#x = np.array(np.random.randn(N,D),dtype=\"float32\")\n",
    "#u = np.array(np.arange(1,K+1)/(K+1),dtype=\"float32\").reshape(-1,1)\n",
    "#print(x.shape)\n",
    "#print(u.shape)\n",
    "#x = torch.from_numpy(x)\n",
    "#u = torch.from_numpy(u)"
   ]
  },
  {
   "cell_type": "code",
   "execution_count": null,
   "id": "d189fe32-a1a3-4f65-bf01-cc76466fdfe5",
   "metadata": {},
   "outputs": [],
   "source": [
    "#print(model.params)\n",
    "#x_hat = model(u)\n",
    "#loss = torch.norm(x-x_hat)\n",
    "#print(loss.item())"
   ]
  },
  {
   "cell_type": "code",
   "execution_count": null,
   "id": "05712214-e548-44c5-a316-01c16e4119f1",
   "metadata": {},
   "outputs": [],
   "source": [
    "optimizer = torch.optim.Adam(model.params,lr=0.01)"
   ]
  },
  {
   "cell_type": "code",
   "execution_count": null,
   "id": "1b93516d-d922-4ab6-b088-29c901d62880",
   "metadata": {},
   "outputs": [],
   "source": [
    "print(time.ctime())"
   ]
  },
  {
   "cell_type": "code",
   "execution_count": null,
   "id": "e92ffc2f-9fc2-43ce-947c-96f4b3319f36",
   "metadata": {},
   "outputs": [],
   "source": [
    "for i in range(1000):\n",
    "    #loss = torch.norm(x-model(u))\n",
    "    l = loss.loss_fn(x,model(u))\n",
    "    optimizer.zero_grad()\n",
    "    l.backward()\n",
    "    optimizer.step()\n",
    "    print(l.item())"
   ]
  },
  {
   "cell_type": "code",
   "execution_count": null,
   "id": "1a6effea-903e-44b0-8f49-25f4da59ff60",
   "metadata": {},
   "outputs": [],
   "source": [
    "print(time.ctime())"
   ]
  },
  {
   "cell_type": "code",
   "execution_count": null,
   "id": "cbb2e159-e3d2-46f3-92cd-277592566b75",
   "metadata": {},
   "outputs": [],
   "source": [
    "A11 = torch.matmul(x,x.T)\n",
    "A22 = torch.matmul(x_tilde,x_tilde.T)\n",
    "A12 = torch.matmul(x,x_tilde.T)\n",
    "print(A11.shape)\n",
    "print(A22.shape)\n",
    "print(A12.shape)"
   ]
  },
  {
   "cell_type": "code",
   "execution_count": null,
   "id": "10d271f3-b25e-436a-8d4b-4b79c5c193f4",
   "metadata": {},
   "outputs": [],
   "source": [
    "def inner_sum(A11,A22,A12,h1,h2):\n",
    "    if h1 < 0:\n",
    "        h1 = -h1\n",
    "    if h2 < 0:\n",
    "        h2 = -h2\n",
    "    if h1 == 0 and h2 == 0:\n",
    "        a1 = torch.sum(A11*A11)\n",
    "        a2 = torch.sum(A22*A22)\n",
    "        a3 = torch.sum(A12*A12)\n",
    "        return a1 + a2 - 2*a3\n",
    "    elif h1 == 0:\n",
    "        a1 = torch.sum(A11[:,h2:]*A11[:,:-h2])\n",
    "        a2 = torch.sum(A22[:,h2:]*A22[:,:-h2])\n",
    "        a3 = torch.sum(A12[:,h2:]*A12[:,:-h2])\n",
    "        a4 = torch.sum(A12[h2:,:]*A12[:-h2,:])\n",
    "        return a1 + a2 - a3 - a4\n",
    "    elif h2 == 0:\n",
    "        a1 = torch.sum(A11[h1:,:]*A11[:-h1,:])\n",
    "        a2 = torch.sum(A22[h1:,:]*A22[:-h1,:])\n",
    "        a3 = torch.sum(A12[h1:,:]*A12[:-h1,:])\n",
    "        a4 = torch.sum(A12[:,h1:]*A12[:,:-h1])\n",
    "        return a1 + a2 - a3 - a4\n",
    "    else:\n",
    "        a1 = torch.sum(A11[h1:,h2:]*A11[:-h1,:-h2])\n",
    "        a2 = torch.sum(A22[h1:,h2:]*A22[:-h1,:-h2])\n",
    "        a3 = torch.sum(A12[h1:,h2:]*A12[:-h1,:-h2])\n",
    "        a4 = torch.sum(A12[h2:,h1:]*A12[:-h2,:-h1])\n",
    "        return a1 + a2 - a3 - a4"
   ]
  },
  {
   "cell_type": "code",
   "execution_count": null,
   "id": "4f83931f-715b-4cf6-84bd-6f8de4b5c4ab",
   "metadata": {},
   "outputs": [],
   "source": [
    "for h1 in range(q):\n",
    "    for h2 in range(q):\n",
    "        A[q+h1,q+h2] = inner_sum(A11,A22,A12,h1,h2)\n",
    "        A[q-h1,q-h2] = inner_sum(A11,A22,A12,-h1,-h2)\n",
    "        A[q-h1,q+h2] = inner_sum(A11,A22,A12,-h1,h2)\n",
    "        A[q+h1,q-h2] = inner_sum(A11,A22,A12,h1,-h2)"
   ]
  },
  {
   "cell_type": "code",
   "execution_count": null,
   "id": "ee19d3d5-012b-4928-bd15-efde50f6b6ed",
   "metadata": {},
   "outputs": [],
   "source": [
    "for h1 in range(q):\n",
    "    for h2 in range(q):\n",
    "        B[q+h1,q+h2] = inner_sum(A11,A22,A12,h1,h2)\n",
    "        B[q-h1,q-h2] = B[q+h1,q+h2]\n",
    "        B[q-h1,q+h2] = B[q+h1,q+h2]\n",
    "        B[q+h1,q-h2] = B[q+h1,q+h2]"
   ]
  },
  {
   "cell_type": "code",
   "execution_count": null,
   "id": "79fd70c6-2657-4e5a-92fe-b37bd0ead6e3",
   "metadata": {},
   "outputs": [],
   "source": [
    "for h1 in range(q):\n",
    "    for h2 in range(h1,q):\n",
    "        C[q+h1,q+h2] = inner_sum(A11,A22,A12,h1,h2)\n",
    "        C[q-h1,q-h2] = C[q+h1,q+h2]\n",
    "        C[q-h1,q+h2] = C[q+h1,q+h2]\n",
    "        C[q+h1,q-h2] = C[q+h1,q+h2]\n",
    "        C[q+h2,q+h1] = C[q+h1,q+h2]\n",
    "        C[q-h2,q-h1] = C[q+h1,q+h2]\n",
    "        C[q-h2,q+h1] = C[q+h1,q+h2]\n",
    "        C[q+h2,q-h1] = C[q+h1,q+h2]"
   ]
  },
  {
   "cell_type": "code",
   "execution_count": null,
   "id": "81272fad-bac3-492c-a468-f071d6c8e4e6",
   "metadata": {},
   "outputs": [],
   "source": [
    "print(np.round(A.detach().numpy()/N**2,1))"
   ]
  },
  {
   "cell_type": "code",
   "execution_count": null,
   "id": "4c441136-2c22-4bc8-b0b0-bb962185306d",
   "metadata": {},
   "outputs": [],
   "source": [
    "print(np.round(B.detach().numpy()/N**2,1))"
   ]
  },
  {
   "cell_type": "code",
   "execution_count": null,
   "id": "9e0e8b4f-bfc3-402a-a73a-408148df0b34",
   "metadata": {},
   "outputs": [],
   "source": [
    "print(np.round(C.detach().numpy()/N**2,1))"
   ]
  },
  {
   "cell_type": "code",
   "execution_count": null,
   "id": "88e82b7d-8748-461d-a748-ed4e29aca845",
   "metadata": {},
   "outputs": [],
   "source": [
    "print(torch.mean((A-B)**2))\n",
    "print(torch.mean((A-C)**2))\n",
    "print(torch.mean((B-C)**2))"
   ]
  },
  {
   "cell_type": "code",
   "execution_count": null,
   "id": "767e3bd1-967f-487f-b63e-a4d0f4fe3c07",
   "metadata": {},
   "outputs": [],
   "source": [
    "for i in range(2*q+1):\n",
    "    for j in range(2*q+1):\n",
    "        if A[i,j] != C[i,j]:\n",
    "            print(str(i)+\",\"+str(j))"
   ]
  },
  {
   "cell_type": "code",
   "execution_count": null,
   "id": "81af9017-1dbb-4d25-988e-1f394c9d90fa",
   "metadata": {},
   "outputs": [],
   "source": [
    "i,j=1,7\n",
    "print(A[i,j],B[i,j],C[i,j])"
   ]
  },
  {
   "cell_type": "code",
   "execution_count": null,
   "id": "4cab0b78-e541-4fe8-9a1d-05417ec7e0be",
   "metadata": {},
   "outputs": [],
   "source": []
  }
 ],
 "metadata": {
  "kernelspec": {
   "display_name": "Python 3 (ipykernel)",
   "language": "python",
   "name": "python3"
  },
  "language_info": {
   "codemirror_mode": {
    "name": "ipython",
    "version": 3
   },
   "file_extension": ".py",
   "mimetype": "text/x-python",
   "name": "python",
   "nbconvert_exporter": "python",
   "pygments_lexer": "ipython3",
   "version": "3.12.4"
  }
 },
 "nbformat": 4,
 "nbformat_minor": 5
}
