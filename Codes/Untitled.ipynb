{
 "cells": [
  {
   "cell_type": "code",
   "execution_count": 1,
   "id": "17d17e74-957f-4477-a0c8-7da5a651498d",
   "metadata": {},
   "outputs": [],
   "source": [
    "#!/usr/bin/env python\n",
    "# coding: utf-8\n",
    "\n",
    "import os\n",
    "import sys\n",
    "import time"
   ]
  },
  {
   "cell_type": "code",
   "execution_count": 2,
   "id": "9939a161-b1ee-403a-838f-20f81dddbc66",
   "metadata": {},
   "outputs": [],
   "source": [
    "import torch\n",
    "import numpy as np"
   ]
  },
  {
   "cell_type": "code",
   "execution_count": 3,
   "id": "111d2850-d7a8-4890-91df-b6694cddb1dc",
   "metadata": {},
   "outputs": [],
   "source": [
    "import matplotlib.pyplot as plt"
   ]
  },
  {
   "cell_type": "code",
   "execution_count": 4,
   "id": "a9d13df6-c085-4160-8ff7-d5ccc308af6b",
   "metadata": {},
   "outputs": [],
   "source": [
    "sys.path.insert(1, os.path.join(\"C:\\\\\", \"Soham\", \"Git\", \"spectral-NN\", \"source_codes\"))\n",
    "#sys.path.insert(1, os.path.join(\"C:\\\\\", \"Users\", \"Soham\", \"Git\", \"spectral-NN\", \"source_codes\"))\n",
    "\n",
    "import SpectralNetworks as spectNN\n",
    "import Important_functions as Ifn\n",
    "#import Other_functions as Ofn"
   ]
  },
  {
   "cell_type": "raw",
   "id": "727855be-2128-41c7-abb8-d5c6f9817e1f",
   "metadata": {},
   "source": [
    "import current_setup as setup\n",
    "\n",
    "### Update\n",
    "\n",
    "method = input(\"Model [Shallow/Deepshared/Deep]: \")\n",
    "if method.lower() == 'deepshared' or method.lower() == 'deep':\n",
    "    depth = input(\"Depth of the network: \")\n",
    "    depth = int(depth)\n",
    "R = input(\"Number of components (R): \")\n",
    "R = int(R)\n",
    "\n",
    "act_fn = setup.act_fn\n",
    "init = setup.init\n",
    "#loss = 'COV'\n",
    "loss_fn = Ifn.loss_COV\n",
    "\n",
    "if method.lower()=='shallow':\n",
    "    err_file = 'Err_'+method+'_'+str(R)+'.txt'\n",
    "elif method.lower()=='deepshared' or method.lower() == 'deep':\n",
    "    err_file = 'Err_'+method+'_'+str(depth)+'_'+str(R)+'.txt'\n",
    "\n",
    "dirc = setup.directory\n",
    "replicates = setup.replicates"
   ]
  },
  {
   "cell_type": "code",
   "execution_count": 5,
   "id": "98d9c0c6-ee42-42d4-8f75-e8f18dffe537",
   "metadata": {},
   "outputs": [],
   "source": [
    "dirc = \"C:\\\\Soham\\\\Git\\\\spectral-NN\\\\Data\\\\\"\n",
    "#dirc = \"C:\\\\Users\\\\Soham\\\\Git\\\\spectral-NN\\\\Data\\\\\"\n",
    "repl = 0"
   ]
  },
  {
   "cell_type": "code",
   "execution_count": 6,
   "id": "b22a653e-a3d2-4232-b97f-bcd7ee68f5d7",
   "metadata": {},
   "outputs": [
    {
     "name": "stdout",
     "output_type": "stream",
     "text": [
      "Example1:\n",
      "N=256, D=100, d=1\n"
     ]
    }
   ],
   "source": [
    "    print('Example'+str(repl+1)+':')\n",
    "    file = dirc+'locations'+str(repl+1)+'.dat'\n",
    "    u = np.loadtxt(dirc+\"locations.dat\",dtype=\"float32\")\n",
    "    if len(u.shape)==1:\n",
    "        D, d = len(u), 1\n",
    "        u = u.reshape(D,1)\n",
    "    else:\n",
    "        D, d = u.shape\n",
    "    u = torch.from_numpy(u)\n",
    "    file = dirc+'Example'+str(repl+1)+'.dat'\n",
    "    x = np.loadtxt(file,dtype='float32')\n",
    "    N = x.shape[0]\n",
    "    if x.shape[1] != D:\n",
    "        exit('Data shape mismatch!! Aborting..')\n",
    "    print('N='+str(N)+', D='+str(D)+', d='+str(d))\n",
    "\n",
    "    x = torch.from_numpy(x)\n",
    "    x = x - torch.mean(x,dim=0,keepdim=True)"
   ]
  },
  {
   "cell_type": "raw",
   "id": "e1d69edb-a840-4226-88d5-371a296a0fa8",
   "metadata": {},
   "source": [
    "for repl in replicates:\n",
    "    print('Example'+str(repl+1)+':')\n",
    "    file = dirc+'locations'+str(repl+1)+'.dat'\n",
    "    u = np.loadtxt(file,dtype='float32')\n",
    "    D, d = u.shape\n",
    "    u = torch.from_numpy(u)\n",
    "    file = dirc+'Example'+str(repl+1)+'.dat'\n",
    "    x = np.loadtxt(file,dtype='float32')\n",
    "    N = x.shape[0]\n",
    "    if x.shape[1] != D:\n",
    "        exit('Data shape mismatch!! Aborting..')\n",
    "    print('N='+str(N)+', D='+str(D)+', d='+str(d))\n",
    "    \n",
    "    x = torch.from_numpy(x)\n",
    "    #x = x - torch.mean(x,dim=0,keepdim=True)\n",
    "\n",
    "    if method.lower()=='shallow':\n",
    "        epochs = setup.epochs_shallow\n",
    "        burn_in = setup.burn_in_shallow\n",
    "        interval = setup.interval_shallow\n",
    "        model = CN.CovNetShallow(d,N,R,act_fn,init)\n",
    "        checkpoint_file = 'Best_'+method+'_'+str(R)+'.pt'\n",
    "    elif method.lower()=='deepshared':\n",
    "        epochs = setup.epochs_deepshared\n",
    "        burn_in = setup.burn_in_deepshared\n",
    "        interval = setup.interval_deepshared\n",
    "        model = CN.CovNetDeepShared(d,N,R,depth,act_fn,init)\n",
    "        checkpoint_file = 'Best_'+method+'_'+str(depth)+'_'+str(R)+'.pt'\n",
    "    elif method.lower()=='deep':\n",
    "        epochs = setup.epochs_deep\n",
    "        burn_in = setup.burn_in_deep\n",
    "        interval = setup.interval_deep\n",
    "        n_nodes = R\n",
    "        model = CN.CovNetDeep(d,N,R,depth,n_nodes,act_fn,init)\n",
    "        checkpoint_file = 'Best_'+method+'_'+str(depth)+'_'+str(R)+'.pt'\n",
    "        \n",
    "    optimizer = setup.optimizer(model.params,lr=setup.lr)\n",
    "    split = setup.split\n",
    "    \n",
    "    print(time.ctime())\n",
    "    l_tr, l_va, epoch = Ifn.cnet_optim_best(x,u,model,loss_fn,optimizer,split,epochs,burn_in,interval,checkpoint_file)\n",
    "    del x,u\n",
    "    \n",
    "    file = dirc+'True_locations'+str(repl+1)+'.dat'\n",
    "    loc = np.loadtxt(file,dtype='float32')\n",
    "    u = torch.from_numpy(loc[:,:d])\n",
    "    v = torch.from_numpy(loc[:,d:])\n",
    "    del loc\n",
    "    cov_file = dirc+'True_cov'+str(repl+1)+'.dat'\n",
    "    err = Ofn.cnet_error_MC(model,u,v,cov_file)\n",
    "    \n",
    "    f_Err = open(err_file,'a')\n",
    "    f_Err.write('Example{}:\\n' .format(repl+1))\n",
    "    f_Err.write('Error = {:.10f}\\n' .format(err))\n",
    "    f_Err.write('Number of epochs = {}\\n' .format(epoch))\n",
    "    f_Err.close()\n",
    "    print('Error = {:.6f}'.format(err))\n",
    "    print('Number of epochs = {}' .format(epoch))\n",
    "    print(time.ctime())\n",
    "    print('\\n')\n",
    "    os.remove(checkpoint_file)"
   ]
  },
  {
   "cell_type": "code",
   "execution_count": null,
   "id": "e84d5272-b25f-4cb7-90c2-25ec32caca90",
   "metadata": {},
   "outputs": [],
   "source": []
  },
  {
   "cell_type": "raw",
   "id": "99033c7c-052a-4e34-8932-7ae00138bbfe",
   "metadata": {},
   "source": [
    "class spectralNNShallow(torch.nn.Module):\n",
    "    def __init__(self,N,d,M,L,act_fn=torch.nn.Sigmoid(),init=torch.nn.init.xavier_normal_):\n",
    "        super(spectralNNShallow, self).__init__()\n",
    "        self.N = N\n",
    "        self.L = L\n",
    "        self.act_fn = act_fn\n",
    "        self.weight = torch.empty([M,2*L+1,d],dtype=torch.float32,requires_grad=True) #weights of the shallow networks\n",
    "        self.bias = torch.zeros([M,2*L+1,1],dtype=torch.float32,requires_grad=True) #biases of the shallow networks\n",
    "        self.xi = torch.empty([M,N+2*L],dtype=torch.float32,requires_grad=True) #the multipliers xi_{m,h}\n",
    "        init(self.weight)\n",
    "        init(self.xi)\n",
    "        self.params = list([self.weight, self.xi, self.bias])\n",
    "\n",
    "    def first_step(self, u):\n",
    "        return self.act_fn(torch.einsum(\"ijk,lk -> ijl\", self.weight, u) + self.bias) #an object of size M x 2L+1 x D\n",
    "\n",
    "    def iter_prod(self, i, G): ## iterated product with the coefficients in xi\n",
    "        return torch.einsum(\"ij,ijk -> k\", self.xi[:,i:(i+2*self.L+1)], G).reshape(1,-1)\n",
    "\n",
    "    def forward(self, u):\n",
    "        G = self.first_step(u)\n",
    "        return torch.cat([model.iter_prod(i,G) for i in range(self.N)])"
   ]
  },
  {
   "cell_type": "raw",
   "id": "b4a2aaaa-4543-48c3-9d00-09790224573d",
   "metadata": {},
   "source": [
    "class spectralNNDeep(torch.nn.Module):\n",
    "    def __init__(self,N,d,M,L,depth,width,act_fn=torch.nn.Sigmoid(),init=torch.nn.init.xavier_normal_):\n",
    "        super(spectralNNDeep, self).__init__()\n",
    "        self.N = N\n",
    "        self.L = L\n",
    "        self.depth = depth\n",
    "        self.act_fn = act_fn\n",
    "        self.init = init\n",
    "        self.weight0 = torch.empty([M,2*L+1,width,d],dtype=torch.float32,requires_grad=True) #weights for the first hidden layer\n",
    "        self.bias0 = torch.zeros([M,2*L+1,width,1],dtype=torch.float32,requires_grad=True) #biases for the first hidden layer\n",
    "        self.weight = torch.empty([depth-2,M,2*L+1,width,width],dtype=torch.float32,requires_grad=True) #weights for the other hidden layers\n",
    "        self.bias = torch.zeros([depth-2,M,2*L+1,width,1],dtype=torch.float32,requires_grad=True) #biases for the other hidden layer\n",
    "        self.weight_final = torch.empty([M,2*L+1,width],dtype=torch.float32,requires_grad=True) #weights for the output layer\n",
    "        self.bias_final = torch.zeros([M,2*L+1,1],dtype=torch.float32,requires_grad=True) #biases for the output layer\n",
    "        self.xi = torch.empty([M,N+2*L],dtype=torch.float32,requires_grad=True) #the multipliers xi_{m,h}\n",
    "        init(self.weight0)\n",
    "        init(self.weight)\n",
    "        init(self.weight_final)\n",
    "        init(self.xi)\n",
    "        self.params = list([self.weight0,self.bias0,self.weight,self.bias,self.weight_final,self.bias_final,self.xi])\n",
    "        \n",
    "    def first_step(self, u):\n",
    "        u1 = self.act_fn(torch.einsum(\"ijkl,ml -> ijkm\", self.weight0, u) + self.bias0)\n",
    "        for i in range(self.depth-2):\n",
    "            u1 = self.act_fn(torch.einsum(\"ijkl, ijlm -> ijkm\", self.weight[i], u1) + self.bias[i])\n",
    "        return self.act_fn(torch.einsum(\"ijk,ijkm -> ijm\", self.weight_final, u1) + self.bias_final) #an object of size M x 2L+1 x D\n",
    "\n",
    "    def iter_prod(self, i, G): ## iterated product with the coefficients in xi\n",
    "        return torch.einsum(\"ij,ijk -> k\", self.xi[:,i:(i+2*self.L+1)], G).reshape(1,-1)\n",
    "\n",
    "    def forward(self, u):\n",
    "        G = self.first_step(u)\n",
    "        return torch.cat([model.iter_prod(i,G) for i in range(self.N)])"
   ]
  },
  {
   "cell_type": "raw",
   "id": "635f7f9b-9346-4235-ad80-b3cb187c53d9",
   "metadata": {},
   "source": [
    "class spectralNNDeepshared(torch.nn.Module):\n",
    "    ### Deepshared spectral-NN of the first type (weight sharing accross m and h)\n",
    "    def __init__(self,N,d,M,L,depth,width,act_fn=torch.nn.Sigmoid(),init=torch.nn.init.xavier_normal_):\n",
    "        super(spectralNNDeepshared, self).__init__()\n",
    "        self.N = N\n",
    "        self.L = L\n",
    "        self.depth = depth\n",
    "        self.act_fn = act_fn\n",
    "        self.init = init\n",
    "        self.weight0 = torch.empty([width,d],dtype=torch.float32,requires_grad=True) #weights for the first hidden layer\n",
    "        self.bias0 = torch.zeros([width,1],dtype=torch.float32,requires_grad=True) #biases for the first hidden layer\n",
    "        self.weight = torch.empty([depth-1,width,width],dtype=torch.float32,requires_grad=True) #weights for the other hidden layers\n",
    "        self.bias = torch.zeros([depth-1,width,1],dtype=torch.float32,requires_grad=True) #biases for the other hidden layer\n",
    "        self.weight_final = torch.empty([M,2*L+1,width],dtype=torch.float32,requires_grad=True) #weights for the output layer\n",
    "        self.bias_final = torch.zeros([M,2*L+1,1],dtype=torch.float32,requires_grad=True) #biases for the output layer\n",
    "        self.xi = torch.empty([M,N+2*L],dtype=torch.float32,requires_grad=True) #the multipliers xi_{m,h}\n",
    "        init(self.weight0)\n",
    "        init(self.weight)\n",
    "        init(self.weight_final)\n",
    "        init(self.xi)\n",
    "        self.params = list([self.weight0,self.bias0,self.weight,self.bias,self.weight_final,self.bias_final,self.xi])\n",
    "        \n",
    "    def first_step(self, u):\n",
    "        u1 = self.act_fn(torch.einsum(\"kl,ml -> km\", self.weight0, u) + self.bias0)\n",
    "        for i in range(self.depth-1):\n",
    "            u1 = self.act_fn(torch.einsum(\"kl, lm -> km\", self.weight[i], u1) + self.bias[i])\n",
    "        return self.act_fn(torch.einsum(\"ijk,km -> ijm\", self.weight_final, u1) + self.bias_final) #an object of size M x 2L+1 x D\n",
    "\n",
    "    def iter_prod(self, i, G): ## iterated product with the coefficients in xi\n",
    "        return torch.einsum(\"ij,ijk -> k\", self.xi[:,i:(i+2*self.L+1)], G).reshape(1,-1)\n",
    "\n",
    "    def forward(self, u):\n",
    "        G = self.first_step(u)\n",
    "        return torch.cat([model.iter_prod(i,G) for i in range(self.N)])"
   ]
  },
  {
   "cell_type": "raw",
   "id": "48a3b241-f08a-46f4-a980-5ebc5d9b7290",
   "metadata": {},
   "source": [
    "class loss_spectralNN:\n",
    "    \"\"\"Module to compute the loss function associated with the spectral NN estimator\"\"\"\n",
    "    def __init__(self, N, wt_fn, grid_size = 100, q=10):\n",
    "        \"\"\"\n",
    "        Args:\n",
    "            N - sample size (length of functional time-series)\n",
    "            wt_fn - a function to compute the weights \n",
    "                        for spectral density estimation.\n",
    "            grid_size - size of the discrete grid on [-pi,pi]\n",
    "                        for choice of theta.\n",
    "            q - lag value for spectral density estimation.\n",
    "        \"\"\"\n",
    "        self.N = N\n",
    "        self.q = q\n",
    "        self.thetas = torch.arange(start=-self.q/(self.q+1),end=self.q/(self.q+1),step=1/(self.q+1),dtype=torch.float32)*np.pi\n",
    "        hs = np.arange(start=-self.q,stop=self.q+0.5,step=1.,dtype=\"float32\")\n",
    "        self.C_diff = torch.from_numpy(np.array([[h1-h2 for h2 in hs] for h1 in hs]))\n",
    "        self.w = torch.from_numpy(wt_fn(hs/self.q))\n",
    "\n",
    "    def inner_sum(self,I11,I22,I12,h1,h2):\n",
    "        \"\"\"Function used to compute the elements of A\"\"\"\n",
    "        \"\"\"Only defined for non-negative h1,h2\"\"\"\n",
    "        \"\"\"\n",
    "        Args:\n",
    "            I11, I22, I12 - inner-product matrices.\n",
    "            h1, h2 - lag indices\n",
    "        \"\"\"\n",
    "        if h1 == 0 and h2 == 0:\n",
    "            a1 = torch.sum(I11*I11)\n",
    "            a2 = torch.sum(I22*I22)\n",
    "            a3 = torch.sum(I12*I12)\n",
    "            return a1 + a2 - 2*a3\n",
    "        elif h1 == 0:\n",
    "            a1 = torch.sum(I11[:,h2:]*I11[:,:-h2])\n",
    "            a2 = torch.sum(I22[:,h2:]*I22[:,:-h2])\n",
    "            a3 = torch.sum(I12[:,h2:]*I12[:,:-h2])\n",
    "            a4 = torch.sum(I12[h2:,:]*I12[:-h2,:])\n",
    "            return a1 + a2 - a3 - a4\n",
    "        elif h2 == 0:\n",
    "            a1 = torch.sum(I11[h1:,:]*I11[:-h1,:])\n",
    "            a2 = torch.sum(I22[h1:,:]*I22[:-h1,:])\n",
    "            a3 = torch.sum(I12[h1:,:]*I12[:-h1,:])\n",
    "            a4 = torch.sum(I12[:,h1:]*I12[:,:-h1])\n",
    "            return a1 + a2 - a3 - a4\n",
    "        else:\n",
    "            a1 = torch.sum(I11[h1:,h2:]*I11[:-h1,:-h2])\n",
    "            a2 = torch.sum(I22[h1:,h2:]*I22[:-h1,:-h2])\n",
    "            a3 = torch.sum(I12[h1:,h2:]*I12[:-h1,:-h2])\n",
    "            a4 = torch.sum(I12[h2:,h1:]*I12[:-h2,:-h1])\n",
    "            return a1 + a2 - a3 - a4\n",
    "\n",
    "    def inner_part(self, x, x_tilde):\n",
    "        \"\"\"\n",
    "        Calculates the inner part of the loss function a(h,h') for h,h'=-q,...,q\n",
    "\n",
    "        Args:\n",
    "            x - observed functional time series (NxD matrix)\n",
    "            x_tilde - fitted time seris using neural networks (NxD matrix)\n",
    "        \"\"\"\n",
    "        I11 = torch.matmul(x,x.T)\n",
    "        I22 = torch.matmul(x_tilde,x_tilde.T)\n",
    "        I12 = torch.matmul(x,x_tilde.T)\n",
    "        A = torch.zeros([2*self.q+1,2*self.q+1],dtype=torch.float32,requires_grad=False)\n",
    "        for h1 in range(self.q):\n",
    "            for h2 in range(h1,self.q):\n",
    "                A[self.q+h1,self.q+h2] = self.inner_sum(I11,I22,I12,h1,h2)\n",
    "                A[self.q-h1,self.q-h2] = A[self.q+h1,self.q+h2]\n",
    "                A[self.q-h1,self.q+h2] = A[self.q+h1,self.q+h2]\n",
    "                A[self.q+h1,self.q-h2] = A[self.q+h1,self.q+h2]\n",
    "                A[self.q+h2,self.q+h1] = A[self.q+h1,self.q+h2]\n",
    "                A[self.q-h2,self.q-h1] = A[self.q+h1,self.q+h2]\n",
    "                A[self.q-h2,self.q+h1] = A[self.q+h1,self.q+h2]\n",
    "                A[self.q+h2,self.q-h1] = A[self.q+h1,self.q+h2]\n",
    "\n",
    "        #for h1 in range(self.q):\n",
    "        #    for h2 in range(self.q):\n",
    "        #        A[self.q+h1,self.q+h2] = self.inner_sum(I11,I22,I12,h1,h2)\n",
    "        #        A[self.q-h1,self.q-h2] = A[self.q+h1,self.q+h2]\n",
    "        #        A[self.q-h1,self.q+h2] = A[self.q+h1,self.q+h2]\n",
    "        #        A[self.q+h1,self.q-h2] = A[self.q+h1,self.q+h2]\n",
    "        \n",
    "        return A\n",
    "\n",
    "    def loss_fn(self, x, x_tilde):\n",
    "        A = self.inner_part(x, x_tilde)\n",
    "        l = 0.\n",
    "        for theta in self.thetas:\n",
    "            l += torch.sqrt(torch.matmul(self.w,torch.matmul(torch.cos(theta*self.C_diff)*A,self.w)))/(self.N**2)\n",
    "        return l/(2*self.q+1)"
   ]
  },
  {
   "cell_type": "code",
   "execution_count": 7,
   "id": "8ee3a05e-6547-4a0b-be58-e4077ca6ddd1",
   "metadata": {},
   "outputs": [],
   "source": [
    "M, L, depth, width = 10, 10, 3, 20\n",
    "act_fn=torch.nn.Sigmoid()\n",
    "init=torch.nn.init.xavier_normal_\n",
    "\n",
    "#model = spectNN.spectralNNShallow(N,d,M,L,act_fn,init)\n",
    "#model = spectNN.spectralNNDeep(N,d,M,L,depth,width,act_fn,init)\n",
    "#model = spectNN.spectralNNDeepshared(N,d,M,L,depth,width,act_fn,init)\n",
    "\n",
    "wt_fn = lambda x: np.exp(-x**2)\n",
    "loss = Ifn.loss_spectralNN(N, wt_fn, grid_size=100, q=10)\n",
    "epochs = 2000"
   ]
  },
  {
   "cell_type": "code",
   "execution_count": 8,
   "id": "c7272fdf-3f63-4c52-b4b2-570280e5d5a6",
   "metadata": {},
   "outputs": [
    {
     "name": "stdout",
     "output_type": "stream",
     "text": [
      "Fitting the shallow model ...\n",
      "Time taken: 0.79945969581604 seconds\n"
     ]
    },
    {
     "data": {
      "image/png": "[encoded data removed]",
      "text/plain": [
       "<Figure size 500x500 with 1 Axes>"
      ]
     },
     "metadata": {},
     "output_type": "display_data"
    },
    {
     "name": "stdout",
     "output_type": "stream",
     "text": [
      "Relative error: 78.01%\n"
     ]
    }
   ],
   "source": [
    "print(\"Fitting the shallow model ...\")\n",
    "model = spectNN.spectralNNShallow(N,d,M,L,act_fn,init)\n",
    "optimizer = torch.optim.Adam(model.params,lr=0.01)\n",
    "\n",
    "start_time = time.time()\n",
    "l_tr = []\n",
    "for epoch in range(epochs):\n",
    "    l = loss.loss_fn(x,model(u))\n",
    "    optimizer.zero_grad()\n",
    "    l.backward()\n",
    "    optimizer.step()\n",
    "    l_tr.append(l.item())\n",
    "time_ellapsed = time.time() - start_time\n",
    "print(\"Time taken: {} seconds\" .format(time_ellapsed))\n",
    "\n",
    "fig, ax = plt.subplots(figsize=(5,5))\n",
    "ax.plot(l_tr)\n",
    "plt.show()\n",
    "\n",
    "with torch.no_grad():\n",
    "    num = loss.loss_fn(x,model(u)).item()\n",
    "    den = loss.loss_fn(x,0*x).item()\n",
    "    #print([num, den])\n",
    "    print(\"Relative error: {:.2f}%\" .format(num/den*100))"
   ]
  },
  {
   "cell_type": "code",
   "execution_count": 9,
   "id": "1b093165-9be4-4d00-884f-b55bde6513cb",
   "metadata": {},
   "outputs": [
    {
     "name": "stdout",
     "output_type": "stream",
     "text": [
      "Fitting the deep model ...\n",
      "Time taken: 0.8940598964691162 seconds\n"
     ]
    },
    {
     "data": {
      "image/png": "[encoded data removed]",
      "text/plain": [
       "<Figure size 500x500 with 1 Axes>"
      ]
     },
     "metadata": {},
     "output_type": "display_data"
    },
    {
     "name": "stdout",
     "output_type": "stream",
     "text": [
      "Relative error: 69.29%\n"
     ]
    }
   ],
   "source": [
    "print(\"Fitting the deep model ...\")\n",
    "model = spectNN.spectralNNDeep(N,d,M,L,depth,width,act_fn,init)\n",
    "optimizer = torch.optim.Adam(model.params,lr=0.01)\n",
    "\n",
    "start_time = time.time()\n",
    "l_tr = []\n",
    "for epoch in range(epochs):\n",
    "    l = loss.loss_fn(x,model(u))\n",
    "    optimizer.zero_grad()\n",
    "    l.backward()\n",
    "    optimizer.step()\n",
    "    l_tr.append(l.item())\n",
    "time_ellapsed = time.time() - start_time\n",
    "print(\"Time taken: {} seconds\" .format(time_ellapsed))\n",
    "\n",
    "fig, ax = plt.subplots(figsize=(5,5))\n",
    "ax.plot(l_tr)\n",
    "plt.show()\n",
    "\n",
    "with torch.no_grad():\n",
    "    num = loss.loss_fn(x,model(u)).item()\n",
    "    den = loss.loss_fn(x,0*x).item()\n",
    "    #print([num, den])\n",
    "    print(\"Relative error: {:.2f}%\" .format(num/den*100))"
   ]
  },
  {
   "cell_type": "code",
   "execution_count": 10,
   "id": "4cedf834-6472-4f73-bc44-bda9b188ddd3",
   "metadata": {},
   "outputs": [
    {
     "name": "stdout",
     "output_type": "stream",
     "text": [
      "Fitting the deepshared model ...\n",
      "Time taken: 3.6504688262939453 seconds\n"
     ]
    },
    {
     "data": {
      "image/png": "[encoded data removed]",
      "text/plain": [
       "<Figure size 500x500 with 1 Axes>"
      ]
     },
     "metadata": {},
     "output_type": "display_data"
    },
    {
     "name": "stdout",
     "output_type": "stream",
     "text": [
      "Relative error: 61.55%\n"
     ]
    }
   ],
   "source": [
    "print(\"Fitting the deepshared model ...\")\n",
    "model = spectNN.spectralNNShallow(N,d,M,L,act_fn,init)\n",
    "#model = spectNN.spectralNNDeep(N,d,M,L,depth,width,act_fn,init)\n",
    "#model = spectNN.spectralNNDeepshared(N,d,M,L,depth,width,act_fn,init)\n",
    "optimizer = torch.optim.Adam(model.params,lr=0.01)\n",
    "\n",
    "start_time = time.time()\n",
    "l_tr = []\n",
    "for i in range(20):\n",
    "    l = loss.loss_fn(x,model(u))\n",
    "    optimizer.zero_grad()\n",
    "    l.backward()\n",
    "    optimizer.step()\n",
    "    l_tr.append(l.item())\n",
    "time_ellapsed = time.time() - start_time\n",
    "print(\"Time taken: {} seconds\" .format(time_ellapsed))\n",
    "\n",
    "fig, ax = plt.subplots(figsize=(5,5))\n",
    "ax.plot(l_tr)\n",
    "plt.show()\n",
    "\n",
    "with torch.no_grad():\n",
    "    num = loss.loss_fn(x,model(u)).item()\n",
    "    den = loss.loss_fn(x,0*x).item()\n",
    "    #print([num, den])\n",
    "    print(\"Relative error: {:.2f}%\" .format(num/den*100))"
   ]
  }
 ],
 "metadata": {
  "kernelspec": {
   "display_name": "Python 3 (ipykernel)",
   "language": "python",
   "name": "python3"
  },
  "language_info": {
   "codemirror_mode": {
    "name": "ipython",
    "version": 3
   },
   "file_extension": ".py",
   "mimetype": "text/x-python",
   "name": "python",
   "nbconvert_exporter": "python",
   "pygments_lexer": "ipython3",
   "version": "3.12.4"
  }
 },
 "nbformat": 4,
 "nbformat_minor": 5
}
