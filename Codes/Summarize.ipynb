{
 "cells": [
  {
   "cell_type": "code",
   "execution_count": null,
   "id": "fbbc6a85-8282-4d8f-b7c7-d5ff8b7ab4b3",
   "metadata": {},
   "outputs": [],
   "source": [
    "import os\n",
    "import numpy as np"
   ]
  },
  {
   "cell_type": "code",
   "execution_count": null,
   "id": "f648c445-f642-4670-8d7b-9f5e35f06b4f",
   "metadata": {},
   "outputs": [],
   "source": [
    "def summary(values):\n",
    "    na_ = sum(np.isnan(values))\n",
    "    if na_ > 0:\n",
    "        values = np.compress(~np.isnan(values),values)\n",
    "        print(\"Non-numeric outcomes!!\")\n",
    "    mean = np.mean(values)\n",
    "    sd = np.std(values)/np.sqrt(len(values))\n",
    "    return np.asarray([mean, sd])"
   ]
  },
  {
   "cell_type": "code",
   "execution_count": null,
   "id": "7daac1c3-2db8-4672-9b44-59b0c80e5a38",
   "metadata": {},
   "outputs": [],
   "source": [
    "def __main__(idx=\"\"):\n",
    "    folder = os.path.join(\"/home\", \"soham\", \"Git\", \"spectral-NN\", \"Results\")\n",
    "\n",
    "    errs = np.empty([4], dtype=float)\n",
    "    times = np.empty([8], dtype=float)\n",
    "    err_file = open(os.path.join(folder,\"Errors\"+str(idx)+\".txt\"),\"a\")\n",
    "    time_file = open(os.path.join(folder,\"Computing_times\"+str(idx)+\".txt\"),\"a\")\n",
    "\n",
    "    for i,fname in enumerate([\"empirical\", \"spectral_NN\"]):\n",
    "        file = os.path.join(folder,fname+\".txt\")\n",
    "        if os.path.exists(file):\n",
    "            with open(file) as f:\n",
    "                f_cont = f.readlines()\n",
    "                errors = []\n",
    "                fit_times = []\n",
    "                eval_times = []\n",
    "                repl = 1\n",
    "                current_line = 0\n",
    "                flag = len(f_cont)>=current_line+5\n",
    "                while flag:\n",
    "                    repl_id = int(f_cont[current_line].strip(\"\\n\").strip(\":\").strip(\"Example\"))\n",
    "                    if not repl_id == repl:\n",
    "                        print(\"Problem with the example id! Aborting ...\")\n",
    "                        flag = False\n",
    "                    else:\n",
    "                        fit_time = float(f_cont[current_line+1].strip(\"\\n\").split(\" \")[3])\n",
    "                        fit_times.append(fit_time)\n",
    "                        eval_time = float(f_cont[current_line+1].strip(\"\\n\").split(\" \")[8])\n",
    "                        eval_times.append(eval_time)\n",
    "                        err = float(f_cont[current_line+2].strip(\"\\n\").split(\" \")[-1])*100\n",
    "                        errors.append(err)\n",
    "                        current_line += 6\n",
    "                        repl += 1\n",
    "                        flag = len(f_cont)>= current_line+5\n",
    "                summ = np.round(summary(errors),2)\n",
    "                errs[2*i] = summ[0]\n",
    "                errs[2*i+1] = summ[1]\n",
    "                summ = np.round(summary(fit_times),5)\n",
    "                times[2*i] = summ[0]\n",
    "                times[2*i+4] = summ[1]\n",
    "                summ = np.round(summary(eval_times),5)\n",
    "                times[2*i+1] = summ[0]\n",
    "                times[2*i+5] = summ[1]\n",
    "        else:\n",
    "            errs[2*i] = 'nan'\n",
    "            errs[2*i+1] = 'nan'\n",
    "            times[2*i] = 'nan'\n",
    "            times[2*i+4] = 'nan'\n",
    "            times[2*i+1] = 'nan'\n",
    "            times[2*i+5] = 'nan'\n",
    "    \n",
    "    print(\"Errors: empirical - {}% ({}), spectral-NN - {}% ({})\".format(errs[0],errs[1],errs[2],errs[3]))\n",
    "    print(\"Average time taken: empirical - {:.3f} + {:.3f} sec., spectral-NN - {:.3f} + {:.3f} sec.\" \n",
    "          .format(times[0],times[1],times[2],times[3]))\n",
    "    \n",
    "    np.savetxt(err_file, errs, fmt=\"%.2f\", newline=\"\\t\")\n",
    "    err_file.write(\"\\n\")\n",
    "    err_file.close()\n",
    "    \n",
    "    np.savetxt(time_file, times, fmt=\"%.3f\", newline=\"\\t\")\n",
    "    time_file.write(\"\\n\")\n",
    "    time_file.close()\n",
    "    return 0."
   ]
  }
 ],
 "metadata": {
  "kernelspec": {
   "display_name": "Python 3 (ipykernel)",
   "language": "python",
   "name": "python3"
  },
  "language_info": {
   "codemirror_mode": {
    "name": "ipython",
    "version": 3
   },
   "file_extension": ".py",
   "mimetype": "text/x-python",
   "name": "python",
   "nbconvert_exporter": "python",
   "pygments_lexer": "ipython3",
   "version": "3.13.1"
  }
 },
 "nbformat": 4,
 "nbformat_minor": 5
}
