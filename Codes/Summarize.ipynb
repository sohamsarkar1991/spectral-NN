{
 "cells": [
  {
   "cell_type": "code",
   "execution_count": 1,
   "id": "370a8eaa-5d9d-4720-af01-d568382601f8",
   "metadata": {},
   "outputs": [],
   "source": [
    "import os\n",
    "import numpy as np"
   ]
  },
  {
   "cell_type": "code",
   "execution_count": 2,
   "id": "02c55f8a-e199-4799-8dd0-6ebfc692d211",
   "metadata": {},
   "outputs": [],
   "source": [
    "def error_summary(errors):\n",
    "    err_min = np.min(errors)\n",
    "    err_max = np.max(errors)\n",
    "    err_mean = np.mean(errors)\n",
    "    err_sd = np.std(errors)/np.sqrt(len(errors))\n",
    "    err_q1, err_median, err_q3 = np.quantile(errors, [0.25,0.5,0.75])\n",
    "    err_iqr = err_q3 - err_q1\n",
    "    return np.array([err_mean, err_sd, err_median, err_iqr, err_min, err_max])"
   ]
  },
  {
   "cell_type": "code",
   "execution_count": 3,
   "id": "42d189c8-aa53-4e78-9f8b-6ceb50991249",
   "metadata": {},
   "outputs": [
    {
     "name": "stdout",
     "output_type": "stream",
     "text": [
      "/home/soham/Simulations/spectral-NN/BM_gam=0.5_N=500_d=1_D=100\n"
     ]
    }
   ],
   "source": [
    "ex_name = \"BM_gam=0.5_N=500_d=1_D=100\"\n",
    "folder = os.path.join(\"/home\", \"soham\", \"Simulations\", \"spectral-NN\",ex_name)\n",
    "print(folder)"
   ]
  },
  {
   "cell_type": "code",
   "execution_count": null,
   "id": "9c45ee23-8a56-40ff-8b8a-098d522eb647",
   "metadata": {},
   "outputs": [],
   "source": [
    "f_err1 = open(os.path.join(\"/home\", \"soham\", \"Simulations\", \"spectral-NN\",ex_name,\"Err_mean.txt\"),\"w\")\n",
    "f_err2 = open(os.path.join(\"/home\", \"soham\", \"Simulations\", \"spectral-NN\",ex_name,\"Err_median_range.txt\"),\"w\")\n",
    "\n",
    "for wt_fun in [\"truncated\",\"Bartlett\",\"Parzen\",\"Tukey_Hanning\",\"quadratic_spectral\"]:\n",
    "    q = 20\n",
    "    files = os.listdir(os.path.join(folder,wt_fun+\"_q=\"+str(q),\"Results\"))\n",
    "    files.sort()\n",
    "    f_err1.write(wt_fun+\"\\n\")\n",
    "    f_err2.write(wt_fun+\"\\n\")\n",
    "    print(wt_fun)\n",
    "    for file in files:\n",
    "        with open(os.path.join(folder,wt_fun+\"_q=\"+str(q),\"Results\",file)) as f:\n",
    "            f_cont = f.readlines()\n",
    "            errors_total = []\n",
    "            errors_cospect = []\n",
    "            repl = 1\n",
    "            current_line = 5\n",
    "            flag = current_line <= len(f_cont)\n",
    "            while flag:\n",
    "                repl_id = int(f_cont[current_line-5].strip(\"\\n\").strip(\":\").strip(\"Example\"))\n",
    "                if not repl_id == repl:\n",
    "                    print(\"Some problem with the example id! Aborting ...\")\n",
    "                    flag = False\n",
    "                else:\n",
    "                    rel_err = f_cont[current_line-3].strip(\"\\n\").split(\" \")[-1]\n",
    "                    err_cospect = f_cont[current_line-2].strip(\"\\n\").split(\" \")[3].strip(\",\")\n",
    "                    tr_cospect = f_cont[current_line-2].strip(\"\\n\").split(\" \")[6].strip(\",\")\n",
    "                    #err_quadspect = f_cont[current_line-1].strip(\"\\n\").split(\" \")[3].strip(\",\")\n",
    "                    errors_total.append(float(rel_err)*100.)\n",
    "                    errors_cospect.append(float(err_cospect)/float(tr_cospect)*100.)\n",
    "                    current_line += 6\n",
    "                    repl += 1\n",
    "                    flag = current_line <= len(f_cont)\n",
    "            errors_total = np.asarray(errors_total)\n",
    "            errors_cospect = np.asarray(errors_cospect)\n",
    "            method = file.strip(\".txt\").strip(\"spectral_\")\n",
    "            err_tot = error_summary(errors_total)\n",
    "            err_cospect = error_summary(errors_cospect)\n",
    "            print(method)\n",
    "            print(np.round(err_tot,decimals=2))\n",
    "            print(np.round(err_cospect,decimals=2))\n",
    "            f_err1.write(method+\"\\n\")\n",
    "            f_err1.write(\"{:.6f}\\t{:.6f}\\t{:.6f}\\t{:.6f}\\n\" .format(err_tot[0],err_tot[1],err_cospect[0],err_cospect[1]))\n",
    "            f_err2.write(method+\"\\n\")\n",
    "            f_err2.write(\"{:.6f}\\t{:.6f}\\t{:.6f}\\t{:.6f}\\n\" .format(err_tot[2],err_tot[3],err_cospect[2],err_cospect[3]))\n",
    "            f_err2.write(\"{:.6f}\\t{:.6f}\\t{:.6f}\\t{:.6f}\\n\" .format(err_tot[4],err_tot[5],err_cospect[4],err_cospect[5]))\n",
    "    f_err1.write(\"\\n\")\n",
    "    f_err2.write(\"\\n\")\n",
    "f_err1.close()\n",
    "f_err2.close()"
   ]
  }
 ],
 "metadata": {
  "kernelspec": {
   "display_name": "Python 3 (ipykernel)",
   "language": "python",
   "name": "python3"
  },
  "language_info": {
   "codemirror_mode": {
    "name": "ipython",
    "version": 3
   },
   "file_extension": ".py",
   "mimetype": "text/x-python",
   "name": "python",
   "nbconvert_exporter": "python",
   "pygments_lexer": "ipython3",
   "version": "3.13.1"
  }
 },
 "nbformat": 4,
 "nbformat_minor": 5
}
