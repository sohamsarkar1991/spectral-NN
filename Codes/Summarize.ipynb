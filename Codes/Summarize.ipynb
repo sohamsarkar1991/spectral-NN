{
 "cells": [
  {
   "cell_type": "code",
   "execution_count": 1,
   "id": "370a8eaa-5d9d-4720-af01-d568382601f8",
   "metadata": {},
   "outputs": [],
   "source": []
  },
  {
   "cell_type": "code",
   "execution_count": 2,
   "id": "4ffeb6a8-be9c-417b-9ace-040a31fe34f6",
   "metadata": {},
   "outputs": [],
   "source": [
    "def summary(values):\n",
    "    mean = np.mean(values)\n",
    "    sd = np.std(values)/np.sqrt(len(values))\n",
    "    return np.asarray([mean, sd])"
   ]
  },
  {
   "cell_type": "code",
   "execution_count": 3,
   "id": "d25f3703-3251-4bdf-b703-e4bc0dbba11c",
   "metadata": {},
   "outputs": [],
   "source": [
    "folder = os.path.join(\"/home\", \"soham\", \"Git\", \"spectral-NN\", \"Results\")\n",
    "\n",
    "errs = np.empty([4], dtype=float)\n",
    "times = np.empty([8], dtype=float)\n",
    "err_file = open(os.path.join(folder,\"Errors.txt\"),\"a\")\n",
    "time_file = open(os.path.join(folder,\"Computing_times.txt\"),\"a\")"
   ]
  },
  {
   "cell_type": "code",
   "execution_count": 4,
   "id": "e8661d69-bec5-417d-8ff6-e9e9ded90ed8",
   "metadata": {
    "scrolled": true
   },
   "outputs": [],
   "source": [
    "for i,fname in enumerate([\"empirical\", \"spectral_NN\"]):\n",
    "    file = os.path.join(folder,fname+\".txt\")\n",
    "    with open(file) as f:\n",
    "        f_cont = f.readlines()\n",
    "        errors = []\n",
    "        fit_times = []\n",
    "        eval_times = []\n",
    "        repl = 1\n",
    "        current_line = 0\n",
    "        flag = len(f_cont)>=current_line+5\n",
    "        while flag:\n",
    "            repl_id = int(f_cont[current_line].strip(\"\\n\").strip(\":\").strip(\"Example\"))\n",
    "            if not repl_id == repl:\n",
    "                print(\"Problem with the example id! Aborting ...\")\n",
    "                flag = False\n",
    "            else:\n",
    "                fit_time = float(f_cont[current_line+1].strip(\"\\n\").split(\" \")[3])\n",
    "                fit_times.append(fit_time)\n",
    "                eval_time = float(f_cont[current_line+1].strip(\"\\n\").split(\" \")[8])\n",
    "                eval_times.append(eval_time)\n",
    "                err = float(f_cont[current_line+2].strip(\"\\n\").split(\" \")[-1])*100\n",
    "                errors.append(err)\n",
    "                current_line += 6\n",
    "                repl += 1\n",
    "                flag = len(f_cont)>= current_line+5\n",
    "        summ = np.round(summary(errors),2)\n",
    "        errs[2*i] = summ[0]\n",
    "        errs[2*i+1] = summ[1]\n",
    "        summ = np.round(summary(fit_times),5)\n",
    "        times[2*i] = summ[0]\n",
    "        times[2*i+4] = summ[1]\n",
    "        summ = np.round(summary(eval_times),5)\n",
    "        times[2*i+1] = summ[0]\n",
    "        times[2*i+5] = summ[1]"
   ]
  },
  {
   "cell_type": "code",
   "execution_count": 5,
   "id": "e28cce99-18ad-49fc-b96e-c314f2b8cc4f",
   "metadata": {},
   "outputs": [
    {
     "name": "stdout",
     "output_type": "stream",
     "text": [
      "Errors: empirical - 18.69% (1.1), spectral-NN - 18.13% (1.17)\n",
      "Average time taken: empirical - 0.474 + 37.992 sec., spectral-NN - 265.959 + 97.470 sec.\n"
     ]
    }
   ],
   "source": [
    "print(\"Errors: empirical - {}% ({}), spectral-NN - {}% ({})\".format(errs[0],errs[1],errs[2],errs[3]))\n",
    "print(\"Average time taken: empirical - {:.3f} + {:.3f} sec., spectral-NN - {:.3f} + {:.3f} sec.\" \n",
    "      .format(times[0],times[1],times[2],times[3]))"
   ]
  },
  {
   "cell_type": "code",
   "execution_count": 6,
   "id": "3bc09b25-6eae-4c44-a53e-dc5285f48a9a",
   "metadata": {},
   "outputs": [],
   "source": [
    "np.savetxt(err_file, errs, fmt=\"%.2f\", newline=\"\\t\")\n",
    "err_file.write(\"\\n\")\n",
    "err_file.close()"
   ]
  },
  {
   "cell_type": "code",
   "execution_count": 7,
   "id": "2cba2564-e4ce-4267-8d53-ecb7d30920bc",
   "metadata": {},
   "outputs": [],
   "source": [
    "np.savetxt(time_file, times, fmt=\"%.2f\", newline=\"\\t\")\n",
    "time_file.write(\"\\n\")\n",
    "time_file.close()"
   ]
  },
  {
   "cell_type": "code",
   "execution_count": null,
   "id": "c4d4cd93-0040-4e73-b537-e25c23bc1c36",
   "metadata": {},
   "outputs": [],
   "source": []
  }
 ],
 "metadata": {
  "kernelspec": {
   "display_name": "Python 3 (ipykernel)",
   "language": "python",
   "name": "python3"
  },
  "language_info": {
   "codemirror_mode": {
    "name": "ipython",
    "version": 3
   },
   "file_extension": ".py",
   "mimetype": "text/x-python",
   "name": "python",
   "nbconvert_exporter": "python",
   "pygments_lexer": "ipython3",
   "version": "3.13.1"
  }
 },
 "nbformat": 4,
 "nbformat_minor": 5
}
