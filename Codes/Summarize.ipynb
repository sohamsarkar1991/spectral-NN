{
 "cells": [
  {
   "cell_type": "code",
   "execution_count": null,
   "id": "370a8eaa-5d9d-4720-af01-d568382601f8",
   "metadata": {},
   "outputs": [],
   "source": [
    "import os\n",
    "import numpy as np"
   ]
  },
  {
   "cell_type": "code",
   "execution_count": null,
   "id": "4ffeb6a8-be9c-417b-9ace-040a31fe34f6",
   "metadata": {},
   "outputs": [],
   "source": [
    "ex_name = \"BM_gam=0.5_N=500_d=1_D=100\"\n",
    "folder = os.path.join(\"/home\", \"soham\", \"Simulations\", \"spectral-NN\",ex_name)\n",
    "print(folder)"
   ]
  },
  {
   "cell_type": "code",
   "execution_count": null,
   "id": "d25f3703-3251-4bdf-b703-e4bc0dbba11c",
   "metadata": {},
   "outputs": [],
   "source": [
    "wt_fun = \"Parzen\"\n",
    "files = os.listdir(os.path.join(folder,wt_fun,\"Results_M_L\"))\n",
    "files.sort()\n",
    "print(files)"
   ]
  },
  {
   "cell_type": "code",
   "execution_count": null,
   "id": "c5e9e005-d5bd-4983-a422-6d27b303c6c3",
   "metadata": {},
   "outputs": [],
   "source": [
    "file = files[2]\n",
    "print(file)"
   ]
  },
  {
   "cell_type": "code",
   "execution_count": null,
   "id": "8e4f147e-b43c-4744-ab95-2fbb6c0e858e",
   "metadata": {},
   "outputs": [],
   "source": [
    "method = file.strip(\".txt\").split(\"_\")\n",
    "print(method)"
   ]
  },
  {
   "cell_type": "code",
   "execution_count": null,
   "id": "e8661d69-bec5-417d-8ff6-e9e9ded90ed8",
   "metadata": {},
   "outputs": [],
   "source": [
    "del method[:3]\n",
    "print(method)\n",
    "del method[-2:]\n",
    "print(method)\n",
    "M, L = method\n",
    "print(M)\n",
    "print(L)"
   ]
  },
  {
   "cell_type": "code",
   "execution_count": null,
   "id": "bba56d1b-7523-48c6-952e-0d5b20feabda",
   "metadata": {},
   "outputs": [],
   "source": [
    "for q in qs:\n",
    "    print(q)\n",
    "    files_q = []\n",
    "    for file in files:\n",
    "        if file.strip(\".txt\").split(\"_\")[2] == q:\n",
    "            files_q.append(file)\n",
    "    print(files_q)\n",
    "    for file in files_q:\n",
    "        method = file.strip(\".txt\").split(\"_\")\n",
    "        del method[0]\n",
    "        del method[1]\n",
    "        method = \"_\".join(method)\n",
    "        print(method)"
   ]
  },
  {
   "cell_type": "code",
   "execution_count": null,
   "id": "f81fe3fc-d30e-4f77-9942-817874e3c3a9",
   "metadata": {},
   "outputs": [],
   "source": []
  }
 ],
 "metadata": {
  "kernelspec": {
   "display_name": "Python 3 (ipykernel)",
   "language": "python",
   "name": "python3"
  },
  "language_info": {
   "codemirror_mode": {
    "name": "ipython",
    "version": 3
   },
   "file_extension": ".py",
   "mimetype": "text/x-python",
   "name": "python",
   "nbconvert_exporter": "python",
   "pygments_lexer": "ipython3",
   "version": "3.13.1"
  }
 },
 "nbformat": 4,
 "nbformat_minor": 5
}
