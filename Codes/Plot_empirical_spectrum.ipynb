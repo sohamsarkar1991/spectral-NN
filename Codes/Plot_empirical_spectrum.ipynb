{
 "cells": [
  {
   "cell_type": "code",
   "execution_count": 1,
   "id": "4d38c91a-cee4-4a98-8f6e-fda2cd61e9ed",
   "metadata": {},
   "outputs": [],
   "source": [
    "    import os\n",
    "    import sys\n",
    "    import time\n",
    "    import torch\n",
    "    import numpy as np\n",
    "    import matplotlib.pyplot as plt"
   ]
  },
  {
   "cell_type": "code",
   "execution_count": 2,
   "id": "d1c7d00d-773e-4e55-ac55-76339b93fac6",
   "metadata": {},
   "outputs": [],
   "source": [
    "    #sys.path.insert(1, os.path.join(\"C:\\\\\", \"Users\", \"Soham\", \"Git\", \"spectral-NN\", \"source_codes\"))\n",
    "    sys.path.insert(1, os.path.join(\"/home\", \"soham\", \"Git\", \"spectral-NN\", \"source_codes\"))\n",
    "    \n",
    "    import SpectralNetworks as spectNN\n",
    "    import Important_functions as Ifn\n",
    "    import spectral_NN_setup as setup"
   ]
  },
  {
   "cell_type": "code",
   "execution_count": 3,
   "id": "84ba74e0-f2e1-4565-9659-f4268546824f",
   "metadata": {},
   "outputs": [],
   "source": [
    "    dirc = setup.directory\n",
    "    replicates = setup.replicates"
   ]
  },
  {
   "cell_type": "code",
   "execution_count": 4,
   "id": "078a5363-4c8b-41c0-8e23-7778c03dd0d1",
   "metadata": {},
   "outputs": [
    {
     "name": "stdout",
     "output_type": "stream",
     "text": [
      "Example2:\n",
      "N=500, D=100, d=1\n"
     ]
    }
   ],
   "source": [
    "    for repl in replicates:\n",
    "        print('Example'+str(repl+1)+':')\n",
    "        u = np.loadtxt(dirc+\"locations.dat\",dtype=\"float32\")\n",
    "        if len(u.shape)==1:\n",
    "            D, d = len(u), 1\n",
    "            u = u.reshape(D,1)\n",
    "        else:\n",
    "            D, d = u.shape\n",
    "        u = torch.from_numpy(u)\n",
    "        x = np.loadtxt(dirc+'Example'+str(repl+1)+'.dat',dtype='float32')\n",
    "        N = x.shape[0]\n",
    "        if x.shape[1] != D:\n",
    "            exit('Data shape mismatch!! Aborting..')\n",
    "        print('N='+str(N)+', D='+str(D)+', d='+str(d))\n",
    "\n",
    "        x = torch.from_numpy(x)\n",
    "        x = x - torch.mean(x,dim=0,keepdim=True)"
   ]
  },
  {
   "cell_type": "code",
   "execution_count": 10,
   "id": "05c67da1-2cf3-4a6a-a89f-4c415a52b89b",
   "metadata": {},
   "outputs": [],
   "source": [
    "        true_loc = np.loadtxt(dirc+\"True_locations_grid.dat\",dtype=\"float32\")\n",
    "        if d == 1:\n",
    "            true_loc = true_loc.reshape(-1,1)\n",
    "        D_tr = true_loc.shape[0]\n",
    "        true_loc = torch.from_numpy(true_loc)\n",
    "        \n",
    "        emp_spect_dens = Ifn.empirical_spectral_density(x, q=q, wt_fn=setup.wt_fn)\n",
    "        true_thetas = np.loadtxt(dirc+\"True_thetas_grid.dat\",dtype=\"float32\")\n",
    "\n",
    "        K_theta = len(true_thetas)\n",
    "        spect_tr = np.loadtxt(dirc+\"True_spectrum_grid.dat\",dtype=\"float32\")\n",
    "        \n",
    "        def mat_scale(mat):\n",
    "            m = np.max(np.abs(mat))\n",
    "            if m == 0.:\n",
    "                return 0.000000001\n",
    "            return m"
   ]
  },
  {
   "cell_type": "code",
   "execution_count": 22,
   "id": "fdbd849c-30d3-4941-8ded-e3e97a86138e",
   "metadata": {},
   "outputs": [],
   "source": [
    "        for t, theta in enumerate(true_thetas):\n",
    "            theta = true_thetas[t]\n",
    "            cospect_emp, quadspect_emp = emp_spect_dens.evaluate(theta)\n",
    "    \n",
    "            fig, ax = plt.subplots(figsize=(2.5,2.5),ncols=1)\n",
    "            m_ = mat_scale(cospect_emp.numpy())\n",
    "            ax.imshow(cospect_emp/m_, origin='lower', cmap='seismic',vmin=-1,vmax=1)\n",
    "            ax.set_xticks(np.linspace(0,D-1,5))\n",
    "            ax.set_xticklabels([])\n",
    "            ax.set_yticks(np.linspace(0,D-1,5))\n",
    "            ax.set_yticklabels([0,0.25,0.5,0.75,1])\n",
    "            ax.set_title(\"{:.3f}\" .format(m_))\n",
    "            ax.set_xticklabels([0,0.25,0.5,0.75,1])\n",
    "            fig.savefig(os.path.join(\"Plots\",\"Empirical_cospect_\"+str(t+1)+\".pdf\"),\n",
    "                        bbox_inches=\"tight\",dpi=300)\n",
    "            plt.close(\"all\")\n",
    "\n",
    "\n",
    "            fig, ax = plt.subplots(figsize=(2.5,2.5),ncols=1)\n",
    "            m_ = mat_scale(quadspect_emp.numpy())\n",
    "            ax.imshow(quadspect_emp/m_, origin='lower', cmap='seismic',vmin=-1,vmax=1)\n",
    "            ax.set_xticks(np.linspace(0,D-1,5))\n",
    "            ax.set_xticklabels([])\n",
    "            ax.set_yticks(np.linspace(0,D-1,5))\n",
    "            ax.set_yticklabels([0,0.25,0.5,0.75,1])\n",
    "            ax.set_title(\"{:.3f}\" .format(m_))\n",
    "            ax.set_xticklabels([0,0.25,0.5,0.75,1])\n",
    "            fig.savefig(os.path.join(\"Plots\",\"Empirical_quadspect_\"+str(t+1)+\".pdf\"),\n",
    "                        bbox_inches=\"tight\",dpi=600)\n",
    "            plt.close(\"all\")\n",
    "        plt.close(\"all\")"
   ]
  },
  {
   "cell_type": "code",
   "execution_count": null,
   "id": "7fd65cfd-3737-4374-889e-ca7e242401ff",
   "metadata": {},
   "outputs": [],
   "source": []
  },
  {
   "cell_type": "code",
   "execution_count": null,
   "id": "5e30091a-61ad-4811-a62d-c9e6ae869251",
   "metadata": {},
   "outputs": [],
   "source": []
  },
  {
   "cell_type": "code",
   "execution_count": null,
   "id": "3f9390ce-c393-4aa0-a07a-e124f0975e4d",
   "metadata": {},
   "outputs": [],
   "source": []
  }
 ],
 "metadata": {
  "kernelspec": {
   "display_name": "Python 3 (ipykernel)",
   "language": "python",
   "name": "python3"
  },
  "language_info": {
   "codemirror_mode": {
    "name": "ipython",
    "version": 3
   },
   "file_extension": ".py",
   "mimetype": "text/x-python",
   "name": "python",
   "nbconvert_exporter": "python",
   "pygments_lexer": "ipython3",
   "version": "3.13.1"
  }
 },
 "nbformat": 4,
 "nbformat_minor": 5
}
