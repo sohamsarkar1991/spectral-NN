{
 "cells": [
  {
   "cell_type": "markdown",
   "id": "b7b58397",
   "metadata": {},
   "source": [
    "# Spectral Density Estimation using Neural Networks (spectral-NN)\n",
    "\n",
    "Here we demonstrate the implementation of the *`spectral-NN`* framework developed by __[*Mohammadi et al. (2025)*](https://)__. The relevant functions are within the **`SpectralNetworks`** and **`Important_functions`** modules inside the `source_codes` folder"
   ]
  },
  {
   "cell_type": "markdown",
   "id": "319569d6",
   "metadata": {},
   "source": [
    "A `spectral-NN` model can be built using the *`SpectralNetworks`* module by specifying the parameters <br>\n",
    "(**Note:** We need to import *`pytorch`* and *`numpy`* before importing the other modules)"
   ]
  },
  {
   "cell_type": "code",
   "execution_count": 1,
   "id": "46128d53",
   "metadata": {},
   "outputs": [],
   "source": [
    "import os\n",
    "import sys\n",
    "import torch\n",
    "import numpy as np\n",
    "\n",
    "sys.path.insert(1, \"source_codes\")\n",
    "\n",
    "import SpectralNetworks as spectNN"
   ]
  },
  {
   "cell_type": "code",
   "execution_count": 2,
   "id": "145bf736",
   "metadata": {},
   "outputs": [],
   "source": [
    "method = \"Deep\"    # Deep spectral-NN\n",
    "N, d = 100, 2      # sample size and dimension of the domain\n",
    "\n",
    "model = spectNN.spectralNNDeep(N,d,M=10,L=5,depth=3,width=20,act_fn=torch.nn.Sigmoid())\n",
    "    # Creats a Deep spectral-NN model with M=10, L=5, depth=3, width=20, activation=Sigmoid\n",
    "    # for 100 functional time series observations on a 2D domain."
   ]
  },
  {
   "cell_type": "markdown",
   "id": "2b222ed1",
   "metadata": {},
   "source": [
    "### Update needed\n",
    "There are three different types of `spectral-NN` models -- `Shallow`, `Deep` and three variants of `Deepshared`.\n",
    "Accordingly, there are five different model classes in *`SpectralNetworks`* for creating these models.\n",
    " - *`spectNN.spectralNNShallow(N,d,M,L,act_fn,init)`*  ----  *Shallow spectral-NN* model.\n",
    " - *`spectNN.spectralNNDeep(N,d,M,L,depth,width,act_fn,init)`*  ----  *Deep spectral-NN* model.\n",
    " - *`spectNN.spectralNNDeepShared1(N,d,M,L,depth,width,act_fn,init)`*  ----  *Deepshared spectral-NN* model variant 1.\n",
    " - *`spectNN.spectralNNDeepShared2(N,d,M,L,depth,width,act_fn,init)`*  ----  *Deepshared spectral-NN* model variant 2.\n",
    " - *`spectNN.spectralNNDeepShared3(N,d,M,L,depth,width,act_fn,init)`*  ----  *Deepshared spectral-NN* model variant 3.\n",
    "\n",
    "**Parameters:**\n",
    "> * N ---- number of functional observations.\n",
    "> * d ---- dimension of the domain. <br>\n",
    " **Note:** N & d are usually inferred from the input data.\n",
    "> * M, L ---- truncation levels (hyperparameters of the model).\n",
    "> * depth ---- *depth* of the model (only for *deep* and *deepshared* models).\n",
    "> * width ---- *width* of the model (only for *deep* and *deepshared* models).\n",
    "> * act_fn ---- *activation function* for the model (optional, default: *Sigmoid*). <br>\n",
    "An element from __[torch.nn.NonlinearActivation](https://pytorch.org/docs/stable/nn.html#non-linear-activations-weighted-sum-nonlinearity)__.\n",
    "> * init ---- *initialization* of the *weights* of the model (optional, default: *Xavier Normal*). <br>\n",
    "An element from __[torch.nn.init](https://pytorch.org/docs/stable/nn.init.html)__. <br>\n",
    " **Note:** The *biases* of the model are initialized as 0."
   ]
  },
  {
   "cell_type": "markdown",
   "id": "43bb6cd7",
   "metadata": {},
   "source": [
    "Once the *model* is created, it can be fitted to the data using *any* available optimization routine from __[torch.optim](https://pytorch.org/docs/stable/optim.html)__. We used __[Adam](https://pytorch.org/docs/stable/generated/torch.optim.Adam.html)__ in our implementations."
   ]
  },
  {
   "cell_type": "code",
   "execution_count": 3,
   "id": "f24b8076",
   "metadata": {},
   "outputs": [
    {
     "name": "stdout",
     "output_type": "stream",
     "text": [
      "N=250, D=1600, d=2\n"
     ]
    }
   ],
   "source": [
    "u = np.loadtxt(os.path.join(\"Demo-data\",\"locations.dat\"),dtype=\"float32\")\n",
    "D, d = u.shape # Number of grid points and dimension of the domain\n",
    "x = np.loadtxt(os.path.join(\"Demo-data\",\"Example.dat\"),dtype=\"float32\")\n",
    "N = x.shape[0] # Number of functional observations\n",
    "if x.shape[1] != D:\n",
    "    sys.exit(\"Data shape mismatch!! Aborting execution ...\")\n",
    "print('N='+str(N)+', D='+str(D)+', d='+str(d))\n",
    "    \n",
    "u = torch.from_numpy(u)\n",
    "x = torch.from_numpy(x)"
   ]
  },
  {
   "cell_type": "code",
   "execution_count": 4,
   "id": "a320706c",
   "metadata": {},
   "outputs": [],
   "source": [
    "model = spectNN.spectralNNDeep(N,d,M=10,L=5,depth=3,width=20,act_fn=torch.nn.Sigmoid())\n",
    "optimizer = torch.optim.Adam(model.params,lr=0.01)"
   ]
  },
  {
   "cell_type": "code",
   "execution_count": 5,
   "id": "54aac4bc",
   "metadata": {},
   "outputs": [],
   "source": [
    "import Important_functions as Ifn\n",
    "\n",
    "loss = Ifn.loss_spectralNN(N, wt_fn=Ifn.kern_parzen, grid_size=100, q=20) #loss function to be minimized"
   ]
  },
  {
   "cell_type": "markdown",
   "id": "5d01d30b-1523-48f3-a5a2-408cc26409e2",
   "metadata": {},
   "source": [
    "### Comment about loss_spectralNN\n",
    "Choice of weight functions"
   ]
  },
  {
   "cell_type": "code",
   "execution_count": 6,
   "id": "6fc1b37d",
   "metadata": {},
   "outputs": [],
   "source": [
    "train_loss = []\n",
    "for i in range(100):\n",
    "    l = loss.loss_fn(x,model(u))\n",
    "    optimizer.zero_grad()\n",
    "    l.backward()\n",
    "    optimizer.step()\n",
    "    train_loss.append(l.item())"
   ]
  },
  {
   "cell_type": "code",
   "execution_count": 7,
   "id": "8dc20752",
   "metadata": {},
   "outputs": [
    {
     "data": {
      "image/png": "[encoded data removed]",
      "text/plain": [
       "<Figure size 600x400 with 1 Axes>"
      ]
     },
     "metadata": {},
     "output_type": "display_data"
    }
   ],
   "source": [
    "import matplotlib.pyplot as plt\n",
    "\n",
    "fig, ax = plt.subplots(figsize=(6,4),ncols=1)\n",
    "\n",
    "ax.plot(train_loss)\n",
    "ax.set_title(\"Training loss\")\n",
    "plt.show()"
   ]
  },
  {
   "cell_type": "markdown",
   "id": "8b2f36e5",
   "metadata": {},
   "source": [
    "A more sophisticated fitting algorithm was used in our implementations. <br> The function **spectral_NN_optim_best** is within the *`Important_functions`* module.\n",
    "\n",
    " - `Ifn.spectral_NN_optim_best(x,u,model,loss,optimizer,epoch,burn_in,interval,checkpoint_file)`\n",
    " \n",
    "**Parameters:**\n",
    "> * x ---- input functional time series. A matrix of size NxD, where D is the resolution (number of grid locations).\n",
    "> * u ---- locations at which each functional data are observed. A matrix of size Dxd.\n",
    "> * model ---- a spectral-NN model.\n",
    "> * loss ---- loss function computation module, used to compute the loss which will be minimized. <br>\n",
    " In our context, the relevant function is **Ifn.loss_spectralNN**.\n",
    "> * optimizer ---- an optimizer for optimizing the model. <br>\n",
    " An element from **torch.optim**, initiated with **model.params**\n",
    "> * epochs ---- number of epochs to run the optimizer (optional, default: 1000).\n",
    "> * burn_in ---- number of epochs before initiating *early stopping* (optional, default: 500).\n",
    "> * interval ---- interval to wait before checking for early stopping (optional, default: 10).\n",
    "> * checkpoint_file ---- file to save the interim states of early stopping (optional, default: \"Checkpoint.pt\").<br>\n",
    " **Note:** The parameters (optimizer, epochs, burn_in, interval) are set using the *`spectral_NN_setup.py`* module.\n",
    " \n",
    "**Returns:**\n",
    "> * l_tr -- an array containing the training losses.\n",
    "> * epoch -- the number of epoch at which minimum loss was achieved."
   ]
  },
  {
   "cell_type": "code",
   "execution_count": 8,
   "id": "b5f1d712",
   "metadata": {},
   "outputs": [
    {
     "name": "stdout",
     "output_type": "stream",
     "text": [
      "Minimum error 9.8754 achieved at epoch 980\n"
     ]
    }
   ],
   "source": [
    "l_tr, epoch = Ifn.spectral_NN_optim_best(x,u,model,loss,optimizer)\n",
    "\n",
    "print(\"Minimum error {:.4f} achieved at epoch {}\" .format(l_tr[epoch-1], epoch))"
   ]
  },
  {
   "cell_type": "code",
   "execution_count": 9,
   "id": "6e931f69",
   "metadata": {},
   "outputs": [
    {
     "data": {
      "image/png": "[encoded data removed]",
      "text/plain": [
       "<Figure size 600x400 with 1 Axes>"
      ]
     },
     "metadata": {},
     "output_type": "display_data"
    }
   ],
   "source": [
    "fig, ax = plt.subplots(figsize=(6,4),ncols=1)\n",
    "\n",
    "ax.plot(l_tr)\n",
    "ax.set_title(\"Training loss\")\n",
    "plt.show()"
   ]
  },
  {
   "cell_type": "markdown",
   "id": "fc437689",
   "metadata": {},
   "source": [
    "Once fitted, we can check the estimation error of the fitted model. Some useful functions are in the *`Important_functions`* module."
   ]
  },
  {
   "cell_type": "code",
   "execution_count": 10,
   "id": "1e36085e",
   "metadata": {},
   "outputs": [],
   "source": [
    "spect_dens_est = Ifn.spectral_density_evaluation(model, q=20, wt_fn=Ifn.kern_parzen)\n",
    "\n",
    "theta_file = os.path.join(\"Demo-data\",\"True_thetas.dat\")\n",
    "loc_file = os.path.join(\"Demo-data\",\"True_locations.dat\")\n",
    "spect_file = os.path.join(\"Demo-data\",\"True_spectrum.dat\")\n",
    "\n",
    "test_err,num,den,tr_cospect,tr_quadspect,err_cospect,err_quadspect = Ifn.spectral_error_computation(spect_dens_est,theta_file,loc_file,spect_file)"
   ]
  },
  {
   "cell_type": "code",
   "execution_count": 11,
   "id": "b9db4fcd-ed40-44c3-abb0-c33622b610a7",
   "metadata": {},
   "outputs": [
    {
     "name": "stdout",
     "output_type": "stream",
     "text": [
      "Relative estimation error - 14.25%\n",
      "\n",
      "Co-spectra: Estimation error - 0.000196, Actual - 0.001506 \n",
      "\n",
      "Quad-spectra: Estimation error - 0.000074, Actual - 0.000000 \n",
      "\n"
     ]
    }
   ],
   "source": [
    "print(\"Relative estimation error - {:.2f}%\\n\" .format(test_err*100))\n",
    "print(\"Co-spectra: Estimation error - {:.6f}, Actual - {:.6f} \\n\" .format(err_cospect,tr_cospect))\n",
    "print(\"Quad-spectra: Estimation error - {:.6f}, Actual - {:.6f} \\n\" .format(err_quadspect,tr_quadspect))"
   ]
  },
  {
   "cell_type": "markdown",
   "id": "6f63e340",
   "metadata": {},
   "source": [
    "A spectral-NN model can be easily saved and restored using **torch.save** and **torch.load** functions in pytorch (see __https://pytorch.org/tutorials/beginner/saving_loading_models.html__).\n",
    "\n",
    "**Usage:**\n",
    "> * `torch.save(model.state_dict(), checkpoint)` ---- saves the current parameters of *model* to the file *checkpoint* (with extension .pt).\n",
    "> * `model.load_state_dict(torch.load(checkpoint, weights_only=True))` ---- loads parameters from the file *checkpoint* and assigns them to the *model* <br>\n",
    " **Note:** For loading the parameters, the size of the *model* (N,d,M,L,depth,width etc.) should match exactly with the one in *checkpoint*. Otherwise, an error will be raised."
   ]
  },
  {
   "cell_type": "code",
   "execution_count": 12,
   "id": "61fc24ee",
   "metadata": {},
   "outputs": [],
   "source": [
    "torch.save(model.state_dict(),\"checkpoint.pt\")\n",
    "    # saving the current parameters to \"checkpoint.pt\""
   ]
  },
  {
   "cell_type": "code",
   "execution_count": 13,
   "id": "85a77d69",
   "metadata": {},
   "outputs": [
    {
     "data": {
      "text/plain": [
       "<All keys matched successfully>"
      ]
     },
     "execution_count": 13,
     "metadata": {},
     "output_type": "execute_result"
    }
   ],
   "source": [
    "model.load_state_dict(torch.load(\"checkpoint.pt\", weights_only=True))\n",
    "    # restoring the saved parameters"
   ]
  }
 ],
 "metadata": {
  "kernelspec": {
   "display_name": "Python 3 (ipykernel)",
   "language": "python",
   "name": "python3"
  },
  "language_info": {
   "codemirror_mode": {
    "name": "ipython",
    "version": 3
   },
   "file_extension": ".py",
   "mimetype": "text/x-python",
   "name": "python",
   "nbconvert_exporter": "python",
   "pygments_lexer": "ipython3",
   "version": "3.12.4"
  }
 },
 "nbformat": 4,
 "nbformat_minor": 5
}
